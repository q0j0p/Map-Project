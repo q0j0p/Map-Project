{
 "cells": [
  {
   "cell_type": "markdown",
   "metadata": {
    "collapsed": true,
    "nbpresent": {
     "id": "4236c8b0-27ae-4ca2-873a-91e8d04ce207"
    },
    "slideshow": {
     "slide_type": "slide"
    }
   },
   "source": [
    "# Wrangling OpenStreetMap Data \n",
    "\n",
    "## Goals and objectives: \n",
    "\n",
    "Gain proficiency in data wrangling using OpenStreetMap data.   \n",
    "- Audit data and devise plan to ensure validity, accuracy, completeness, consistency, and uniformity of data. \n",
    "- Create an sql database with appropriate schema, populate tables via python interface (sqlite3).  \n",
    "- Create functional, readable python code to properly manipulate data.  \n",
    "- Provide clear documentation \n",
    "- Enable statistical analysis of cleaned data \n",
    "- Obtain useful information and insight from dataset regarding subject matter.  "
   ]
  },
  {
   "cell_type": "markdown",
   "metadata": {
    "nbpresent": {
     "id": "a3da84aa-18bf-451e-8a93-4c22241b4943"
    },
    "slideshow": {
     "slide_type": "notes"
    }
   },
   "source": [
    "## Data Acquisition \n",
    "\n",
    "**Data source:** \n",
    "The assignment provided data sources that are part of the OpenStreetMap project.  Custom extracts of raw OSM (XML) data were obtained from [mapzen](https://mapzen.com).  \n",
    "\n",
    "**Subject:** \n",
    "The chosen subject matter is the State of Hawai'i. The dataset of the state of Hawai'i (excluding Kauaii) was 158 MB. For efficient auditing (and debugging), smaller samples were used (Island of Hawai'i dataset-- 67.9 MB).   \n",
    "\n",
    "**'Methods and materials':** \n",
    "Python programming language 2.7, IPython (Jupyter) notebook, database schema, Python libraries/packages below: "
   ]
  },
  {
   "cell_type": "code",
   "execution_count": 1,
   "metadata": {
    "collapsed": false,
    "nbpresent": {
     "id": "7bbd3efa-2df3-4ded-ab38-7128542187fc"
    },
    "slideshow": {
     "slide_type": "notes"
    }
   },
   "outputs": [],
   "source": [
    "OSMFILE = \"SofHexK.osm\"\n",
    "DBFILE = \"SofHawaii\"\n",
    "# SCHEMA = schema.schema (schema for .csv files)\n",
    "\n",
    "import xml.etree.cElementTree as ET\n",
    "import pprint\n",
    "from collections import defaultdict\n",
    "from bs4 import BeautifulSoup\n",
    "import urllib \n",
    "from geopy.geocoders import Nominatim\n",
    "import csv\n",
    "import codecs\n",
    "import re\n",
    "import cerberus\n",
    "import schema\n",
    "import sqlite3 \n",
    "import io"
   ]
  },
  {
   "cell_type": "markdown",
   "metadata": {
    "nbpresent": {
     "id": "0d708032-d4ff-4eb4-99da-240479b3acd7"
    },
    "slideshow": {
     "slide_type": "notes"
    }
   },
   "source": [
    "### General description: \n",
    "\n",
    "\"[OpenStreetMap](https://www.openstreetmap.org/about) is built by a community of mappers that contribute and maintain data about roads, trails, `cafés`, railway stations, and much more, all over the world.\"\n",
    "\n",
    "Since the OpenStreetMap is an open source project, human error is likely the main source of error-- namely, inconsistencies in data entry.  The [OSM XML wiki](http://wiki.openstreetmap.org/wiki/OSM_XML) provides documentation for the data.  \n",
    "\n",
    "The OSM XML provides the framework for `elements` that represent physical features on the map.  `Elements` consist of `nodes`, `ways`, and `relations` (http://wiki.openstreetmap.org/wiki/Elements).  Each instance of `elements` is provided in 'blocks'-- XML elements that enclose tags with key / value attributes.  Documentation describes ['certainties and uncertainties'](http://wiki.openstreetmap.org/wiki/OSM_XML#Certainties_and_Uncertainties) of a given dataset.  \n"
   ]
  },
  {
   "cell_type": "markdown",
   "metadata": {
    "nbpresent": {
     "id": "bad43b2e-de1b-4c1e-94f0-1a0ecc079ed2"
    },
    "slideshow": {
     "slide_type": "notes"
    }
   },
   "source": [
    "## Data audit \n",
    "\n",
    "Data quality is assessed to verify assumptions about the type, shape and value of the data.  Errors and outliers are identified, and missing values are accounted for.  Measures of validity, accuracy, completeness, consistency and uniformity describe the quality of data.  "
   ]
  },
  {
   "cell_type": "code",
   "execution_count": 2,
   "metadata": {
    "collapsed": false,
    "nbpresent": {
     "id": "b63a087a-6077-4d8e-8671-971c38f2f482"
    },
    "slideshow": {
     "slide_type": "skip"
    }
   },
   "outputs": [],
   "source": [
    "# Identify and tally the number of each tag in the OSM XML dataset.  Uses ET.fromstring()-- \n",
    "# get an idea of performance.\n",
    "\n",
    "# import xml.etree.cElementTree as ET\n",
    "# import pprint\n",
    "# from collections import defaultdict\n",
    "\n",
    "def count_tags(filename):\n",
    "        with open(filename, 'r') as f:\n",
    "            data = f.read()\n",
    "        tree = ET.fromstring(data)\n",
    "        d1 = {}\n",
    "        for el in tree.iter('*'): \n",
    "            d1[el.tag] = 0 \n",
    "        for el in tree.iter('*'): \n",
    "            d1[el.tag] +=1 \n",
    "        return d1\n"
   ]
  },
  {
   "cell_type": "code",
   "execution_count": 3,
   "metadata": {
    "collapsed": false,
    "nbpresent": {
     "id": "8b3a4c43-b79a-4bff-9052-6e85dba859ca"
    },
    "slideshow": {
     "slide_type": "skip"
    }
   },
   "outputs": [
    {
     "name": "stdout",
     "output_type": "stream",
     "text": [
      "['node', 'nd', 'bounds', 'member', 'tag', 'osm', 'way', 'relation']\n",
      "1 loop, best of 1: 14.4 s per loop\n"
     ]
    }
   ],
   "source": [
    "%%timeit -r 1 -n 1\n",
    "tags = count_tags(OSMFILE)\n",
    "print tags.keys()"
   ]
  },
  {
   "cell_type": "markdown",
   "metadata": {
    "nbpresent": {
     "id": "a5aa9214-e672-4993-a798-a684adc616ee"
    },
    "slideshow": {
     "slide_type": "notes"
    }
   },
   "source": [
    "**'node', 'nd', 'bounds', 'member', 'tag', 'osm', 'way', 'relation'** constitute the xml elements in the OSM dataset.  \n",
    "\n",
    "Of these, 'way', 'node', 'relation' are osm 'elements'-- the basic components of OpenStreetMap's data model.  \n",
    "\n",
    "'osm' is the xml element that encloses the entire osm data structure in the the .osm file. \n",
    "\n",
    "'bounds' contains attributes that define the boundary coordinates of the map.\n",
    "\n",
    "'member' is an xml element under the osm element 'relation' (namely the 'multiplygon' relation) that is used to describe how thw 'way's in the 'relation' are related.  \n",
    "\n",
    "'tag's exist as children of the element trees, fleshing out the details of the element.  \n",
    "\n",
    "'nd's are tags under 'way's that reference the 'nodes' that make up the 'way's.  "
   ]
  },
  {
   "cell_type": "code",
   "execution_count": 4,
   "metadata": {
    "collapsed": false,
    "nbpresent": {
     "id": "f8d06367-8411-4104-b555-db9c63795b1f"
    },
    "scrolled": true,
    "slideshow": {
     "slide_type": "skip"
    }
   },
   "outputs": [],
   "source": [
    "tags = count_tags(OSMFILE)"
   ]
  },
  {
   "cell_type": "code",
   "execution_count": 5,
   "metadata": {
    "collapsed": false,
    "nbpresent": {
     "id": "90c8d1a4-35ef-40de-867f-ce80e1cd5e8c"
    },
    "slideshow": {
     "slide_type": "skip"
    }
   },
   "outputs": [
    {
     "name": "stdout",
     "output_type": "stream",
     "text": [
      "{'node': 765029, 'nd': 884680, 'bounds': 1, 'member': 4828, 'tag': 239102, 'osm': 1, 'way': 61483, 'relation': 982}\n"
     ]
    }
   ],
   "source": [
    "print tags"
   ]
  },
  {
   "cell_type": "markdown",
   "metadata": {
    "nbpresent": {
     "id": "f024d4ff-49b4-4096-bb82-dbc9e625be82"
    },
    "slideshow": {
     "slide_type": "notes"
    }
   },
   "source": [
    "### Data Validity\n",
    "\n",
    "In the \"State of Hawaii\" dataset, ther are 765029 'node', 61483 'way', 982 'relation' elements (i.e. instances thereof).    In the Island of Hawaii OSM dataset, there are 335674 instances of 'node', 25136 instances of 'way', and 415 instances of '`relation`' elements (assessed previously).  The dataset appears to be valid, with no unidentifiable elements or tags.  A validator will be used in the subequent sql database intake. \n",
    "\n",
    "#### Verification / validation scheme of the tags in the osm dataset: \n",
    "\n",
    "osm: verify that there is only one.  \n",
    "bounds: verify coordinates of bounds.  \n",
    "member: all members are ways?  \n",
    "nds: all nodes in dataset?  \n",
    "tags: what features are represented?  "
   ]
  },
  {
   "cell_type": "markdown",
   "metadata": {
    "nbpresent": {
     "id": "980f8443-6f6d-4e70-980b-06ad07257db2"
    },
    "slideshow": {
     "slide_type": "notes"
    }
   },
   "source": [
    "As expected, there is only one `osm` element and one `bounds` element.  "
   ]
  },
  {
   "cell_type": "code",
   "execution_count": 6,
   "metadata": {
    "collapsed": true,
    "nbpresent": {
     "id": "7ed0949b-efdb-4ac4-9d28-2523b9b9d5b2"
    },
    "slideshow": {
     "slide_type": "skip"
    }
   },
   "outputs": [],
   "source": [
    "# These are functions used in verifying osm element data \n",
    "\n",
    "# view the tags\n",
    "def view_attribs(tagstring):\n",
    "    for _, element in ET.iterparse(OSMFILE): \n",
    "        if element.tag == tagstring: \n",
    "            pprint.pprint(element.attrib)\n",
    "    \n",
    "# get the tag\n",
    "def get_attrib(tagstring):\n",
    "    for _, element in ET.iterparse(OSMFILE): \n",
    "        if element.tag == tagstring: \n",
    "            return element.attrib\n",
    "\n",
    "# get the set of all values of a given keyvalue in a given tag\n",
    "def get_allof_attrib(tagstring, keystring): \n",
    "    attrib_set = set()\n",
    "    for _, element in ET.iterparse(OSMFILE): \n",
    "        if element.tag == tagstring and keystring in element.attrib.keys(): \n",
    "            attrib_set.add(element.attrib[keystring])\n",
    "    return attrib_set\n",
    "\n",
    "# get the set of all values of a given keyvalue of a given child tag of a tag  \n",
    "def get_allof_childattrib(tagstring, childtagstring, childkeystring): \n",
    "    attrib_set = set() \n",
    "    for _, element in ET.iterparse(OSMFILE): \n",
    "        if element.tag == tagstring: \n",
    "            for a in element.findall(childtagstring): \n",
    "                attrib_set.add(a.get(childkeystring))\n",
    "    return attrib_set"
   ]
  },
  {
   "cell_type": "code",
   "execution_count": 7,
   "metadata": {
    "collapsed": false,
    "nbpresent": {
     "id": "fb99e266-6a56-4c64-9f69-4e9d0ac8c684"
    },
    "slideshow": {
     "slide_type": "skip"
    }
   },
   "outputs": [
    {
     "name": "stdout",
     "output_type": "stream",
     "text": [
      "{'minlat': '18.6982854', 'maxlon': '-154.6325683', 'minlon': '-158.4338378', 'maxlat': '21.8411047'}\n"
     ]
    }
   ],
   "source": [
    "# \n",
    "bounds = get_attrib('bounds')\n",
    "print bounds"
   ]
  },
  {
   "cell_type": "markdown",
   "metadata": {
    "nbpresent": {
     "id": "0b2896c7-4a46-47b4-8a4c-9a8369de3e78"
    },
    "slideshow": {
     "slide_type": "notes"
    }
   },
   "source": [
    "The `bounds` attributes provide the coordinates for the map.  Using the '`geopy`' package, we can double check that the coordinates correspond to the actual physical location.  "
   ]
  },
  {
   "cell_type": "code",
   "execution_count": 8,
   "metadata": {
    "collapsed": false,
    "nbpresent": {
     "id": "fe2b58b6-987d-4a00-8803-c57ed2b1f561"
    },
    "slideshow": {
     "slide_type": "skip"
    }
   },
   "outputs": [
    {
     "name": "stdout",
     "output_type": "stream",
     "text": [
      "96816\n"
     ]
    }
   ],
   "source": [
    "# verify location of coordinates using geopy package (https://pypi.python.org/pypi/geopy#downloads)\n",
    "# from geopy.geocoders import Nominatim\n",
    "geolocator = Nominatim()\n",
    "minloc = geolocator.reverse(\"{},{}\".format(bounds['minlat'], bounds['minlon']))\n",
    "maxloc = geolocator.reverse(\"{},{}\".format(bounds['maxlat'], bounds['maxlon']))\n",
    "print maxloc\n",
    "#print minloc # returns TypeError: __str__ returned non-string (type NoneType)-- coordinates unlabeled. \n"
   ]
  },
  {
   "cell_type": "markdown",
   "metadata": {
    "nbpresent": {
     "id": "f9e79e6d-4664-446a-a656-5cbd7522c9ce"
    },
    "slideshow": {
     "slide_type": "notes"
    }
   },
   "source": [
    "'96816' is a zipcode of Honolulu.  "
   ]
  },
  {
   "cell_type": "markdown",
   "metadata": {
    "nbpresent": {
     "id": "32e944cf-ad51-40f8-b3f7-85e93d1cc180"
    },
    "slideshow": {
     "slide_type": "notes"
    }
   },
   "source": [
    "All constituents of the 'members' and 'nd' osm tags must be an osm element ('ways' or 'nodes').  "
   ]
  },
  {
   "cell_type": "code",
   "execution_count": 9,
   "metadata": {
    "collapsed": true,
    "nbpresent": {
     "id": "96e684f5-6816-4851-8a9b-e004071aee3a"
    },
    "slideshow": {
     "slide_type": "skip"
    }
   },
   "outputs": [],
   "source": [
    "# all 'way' ids: \n",
    "way_ids = get_allof_attrib('way','id')\n",
    "\n",
    "# all 'relation' ids: \n",
    "relation_ids = get_allof_attrib('relation', 'id')\n",
    "\n",
    "# all 'member' ids in 'relation': \n",
    "relation_member_refs = get_allof_childattrib('relation', 'member', 'ref')\n",
    "\n",
    "# etc. \n",
    "way_changesets = get_allof_attrib('way', 'changeset')\n",
    "\n",
    "node_ids = get_allof_attrib('node', 'id')\n",
    "\n",
    "way_nd_refs = get_allof_childattrib('way', 'nd', 'ref')\n",
    "\n",
    "node_nd_refs = get_allof_childattrib('node', 'nd', 'ref')"
   ]
  },
  {
   "cell_type": "code",
   "execution_count": 10,
   "metadata": {
    "collapsed": true,
    "nbpresent": {
     "id": "ed00a458-c8a2-41a0-83be-1dcb0c14e174"
    },
    "slideshow": {
     "slide_type": "skip"
    }
   },
   "outputs": [],
   "source": [
    "# how many of set one is /isn't in set2?\n",
    "def what_in_what(set1, set2):\n",
    "    is_in = 0 \n",
    "    not_in = 0 \n",
    "    for id in set1: \n",
    "        if id not in set2: \n",
    "#            print \"{} not in {}\".format(id, 'way_ids')\n",
    "            not_in+=1\n",
    "        elif id in set2: \n",
    "#            print \"{} in {}\".format(id, 'way_ids')\n",
    "            is_in+=1\n",
    "    print 'not_in: {}, is_in: {}'.format(not_in, is_in)\n",
    "    \n",
    "# get list of those not in set2\n",
    "def listof_notin(set1, set2):\n",
    "    is_in = 0 \n",
    "    not_in = 0 \n",
    "    notinlist = []\n",
    "    for id in set1: \n",
    "        if id not in set2: \n",
    "#            print \"{} not in {}\".format(id, 'way_ids')\n",
    "            not_in+=1\n",
    "            notinlist.append(id)\n",
    "        elif id in set2: \n",
    "#            print \"{} in {}\".format(id, 'way_ids')\n",
    "            is_in+=1\n",
    "    return notinlist"
   ]
  },
  {
   "cell_type": "code",
   "execution_count": 11,
   "metadata": {
    "collapsed": false,
    "nbpresent": {
     "id": "98d43b28-a7cf-4133-8774-65727c108f7d"
    },
    "slideshow": {
     "slide_type": "skip"
    }
   },
   "outputs": [
    {
     "name": "stdout",
     "output_type": "stream",
     "text": [
      "not_in: 317, is_in: 3108\n"
     ]
    }
   ],
   "source": [
    "what_in_what(relation_member_refs, way_ids)"
   ]
  },
  {
   "cell_type": "code",
   "execution_count": 12,
   "metadata": {
    "collapsed": false,
    "nbpresent": {
     "id": "238c3124-9128-4a54-836a-74656492f4d8"
    },
    "slideshow": {
     "slide_type": "skip"
    }
   },
   "outputs": [
    {
     "name": "stdout",
     "output_type": "stream",
     "text": [
      "not_in: 3119, is_in: 306\n"
     ]
    }
   ],
   "source": [
    "what_in_what(relation_member_refs, node_ids)"
   ]
  },
  {
   "cell_type": "code",
   "execution_count": 13,
   "metadata": {
    "collapsed": false,
    "nbpresent": {
     "id": "b32d3998-b146-44c3-87b7-747d749e0ee2"
    },
    "slideshow": {
     "slide_type": "skip"
    }
   },
   "outputs": [
    {
     "name": "stdout",
     "output_type": "stream",
     "text": [
      "not_in: 11, is_in: 3414\n"
     ]
    }
   ],
   "source": [
    "what_in_what(relation_member_refs, way_ids.union(node_ids))"
   ]
  },
  {
   "cell_type": "code",
   "execution_count": 14,
   "metadata": {
    "collapsed": false,
    "nbpresent": {
     "id": "a645c0a9-1644-4867-81d6-eca30290366d"
    }
   },
   "outputs": [
    {
     "data": {
      "text/plain": [
       "['4090361',\n",
       " '4090378',\n",
       " '4090377',\n",
       " '3697279',\n",
       " '3697274',\n",
       " '168936',\n",
       " '168937',\n",
       " '166563',\n",
       " '4090539',\n",
       " '4090538',\n",
       " '4089706']"
      ]
     },
     "execution_count": 14,
     "metadata": {},
     "output_type": "execute_result"
    }
   ],
   "source": [
    "listof_notin(relation_member_refs, way_ids.union(node_ids))"
   ]
  },
  {
   "cell_type": "markdown",
   "metadata": {
    "nbpresent": {
     "id": "b9001ab0-8ed8-466b-b59f-d9818f903d17"
    },
    "slideshow": {
     "slide_type": "notes"
    }
   },
   "source": [
    "There are 11 'member' element that is neither 'node' nor 'way'.  This can be flagged for analysis later.  "
   ]
  },
  {
   "cell_type": "code",
   "execution_count": 15,
   "metadata": {
    "collapsed": false,
    "nbpresent": {
     "id": "35a1245e-8acb-49b9-a432-bb7078dc8bc5"
    },
    "slideshow": {
     "slide_type": "skip"
    }
   },
   "outputs": [
    {
     "name": "stdout",
     "output_type": "stream",
     "text": [
      "not_in: 0, is_in: 3425\n"
     ]
    }
   ],
   "source": [
    "what_in_what(relation_member_refs, way_ids.union(node_ids).union(way_nd_refs).union(node_nd_refs).union(relation_ids))"
   ]
  },
  {
   "cell_type": "markdown",
   "metadata": {
    "nbpresent": {
     "id": "d8b8d6f2-427c-435a-bf08-94001ef12ecc"
    },
    "slideshow": {
     "slide_type": "skip"
    }
   },
   "source": [
    "In fact, the 11 'member's were themselves 'relation's.  "
   ]
  },
  {
   "cell_type": "code",
   "execution_count": 16,
   "metadata": {
    "collapsed": false,
    "nbpresent": {
     "id": "6308dc94-0884-40c5-b9e0-14516ae5d06d"
    },
    "slideshow": {
     "slide_type": "skip"
    }
   },
   "outputs": [
    {
     "name": "stdout",
     "output_type": "stream",
     "text": [
      "not_in: 3414, is_in: 11\n"
     ]
    }
   ],
   "source": [
    "what_in_what(relation_member_refs, relation_ids)"
   ]
  },
  {
   "cell_type": "markdown",
   "metadata": {
    "nbpresent": {
     "id": "f6d83194-3764-47de-b637-9a3facde064a"
    },
    "slideshow": {
     "slide_type": "notes"
    }
   },
   "source": [
    "All 'way node's are a subset of nodes.  "
   ]
  },
  {
   "cell_type": "code",
   "execution_count": 17,
   "metadata": {
    "collapsed": false,
    "nbpresent": {
     "id": "4c107952-160c-4dfc-a32d-1f07b2c9d802"
    },
    "slideshow": {
     "slide_type": "skip"
    }
   },
   "outputs": [
    {
     "name": "stdout",
     "output_type": "stream",
     "text": [
      "not_in: 0, is_in: 759598\n"
     ]
    }
   ],
   "source": [
    "what_in_what(way_nd_refs, node_ids)"
   ]
  },
  {
   "cell_type": "code",
   "execution_count": 18,
   "metadata": {
    "collapsed": false,
    "nbpresent": {
     "id": "555597b4-4c85-4e5d-ac6e-1a3d2e2707a0"
    },
    "slideshow": {
     "slide_type": "skip"
    }
   },
   "outputs": [
    {
     "data": {
      "text/plain": [
       "759598"
      ]
     },
     "execution_count": 18,
     "metadata": {},
     "output_type": "execute_result"
    }
   ],
   "source": [
    "nd_refs = get_allof_attrib('nd', 'ref')\n",
    "len(set(nd_refs))"
   ]
  },
  {
   "cell_type": "code",
   "execution_count": 19,
   "metadata": {
    "collapsed": false,
    "nbpresent": {
     "id": "01003749-094c-46e6-a20a-7464110d6db3"
    },
    "slideshow": {
     "slide_type": "skip"
    }
   },
   "outputs": [
    {
     "data": {
      "text/plain": [
       "731"
      ]
     },
     "execution_count": 19,
     "metadata": {},
     "output_type": "execute_result"
    }
   ],
   "source": [
    "def get_value(element, kitem):\n",
    "    return element.attrib[kitem]\n",
    "\n",
    "def get_allelement_attrib(kitem):\n",
    "    k = set()\n",
    "    for _, element in ET.iterparse(OSMFILE):\n",
    "        if  kitem in element.attrib.keys():\n",
    "            k.add(get_value(element, kitem))\n",
    "    return k\n",
    "\n",
    "users = get_allelement_attrib('uid')\n",
    "len(users)"
   ]
  },
  {
   "cell_type": "markdown",
   "metadata": {
    "collapsed": true,
    "nbpresent": {
     "id": "012286f5-e323-463d-a3b7-61ce5ec52662"
    },
    "slideshow": {
     "slide_type": "notes"
    }
   },
   "source": [
    "There are 731 unique contributors who have worked on this map.  "
   ]
  },
  {
   "cell_type": "markdown",
   "metadata": {
    "nbpresent": {
     "id": "33de7a91-a166-438a-a01c-9ff3ca255550"
    },
    "slideshow": {
     "slide_type": "notes"
    }
   },
   "source": [
    "### Consistency and Completeness\n",
    "\n",
    "**Consistency:**'k' (key) and 'v' (value) attributes of tags describe the enclosing element.  Both keys and values are 'free format text fields' describing the features of a map object.  While this confers user flexibility for the open data project, it does not bode well for data consistency, as the same physical object on the map can be variously described in multiple observations.  \n",
    "\n",
    "**Completeness:**  An open project dataset is characteristically incomplete.  In addition, OSM's 'free tagging system' provides an unlimited number of ways a map feature can be described.  The 'degree of incompleteness' of a dataset can be characterized to understand what aspects of the map needs particular attention.  \n"
   ]
  },
  {
   "cell_type": "code",
   "execution_count": 20,
   "metadata": {
    "collapsed": false,
    "nbpresent": {
     "id": "2d241bb2-b6cc-4d49-9eec-0a78584435ca"
    },
    "slideshow": {
     "slide_type": "skip"
    }
   },
   "outputs": [],
   "source": [
    "# ### Generates manageabe sample data by aggregating every kth element.  (Code adapted from Udacity.)\n",
    "\n",
    "# # import xml.etree.ElementTree as ET  # Use cElementTree or lxml if too slow\n",
    "\n",
    "# OSM_FILE = \"Hawaii.osm\"  # input dataset file\n",
    "# SAMPLE_FILE = \"sample.osm\" # output sample file\n",
    "\n",
    "# k = 10 # Parameter: take every k-th top level element\n",
    "\n",
    "# def get_element(osm_file, tags=('node', 'way', 'relation')):\n",
    "#     context = iter(ET.iterparse(osm_file, events=('start', 'end')))\n",
    "#     _, root = next(context)\n",
    "#     for event, elem in context:\n",
    "#         if event == 'end' and elem.tag in tags:\n",
    "#             yield elem  #`yield` returns a generator (an iterable object, iterating one by one)\n",
    "#             root.clear()\n",
    "\n",
    "\n",
    "# with open(SAMPLE_FILE, 'wb') as output:\n",
    "#     output.write('<?xml version=\"1.0\" encoding=\"UTF-8\"?>\\n')\n",
    "#     output.write('<osm>\\n  ')\n",
    "\n",
    "#     # Write every kth top level element\n",
    "#     for i, element in enumerate(get_element(OSM_FILE)):\n",
    "#         if i % k == 0:\n",
    "#             output.write(ET.tostring(element, encoding='utf-8'))\n",
    "\n",
    "#     output.write('</osm>')"
   ]
  },
  {
   "cell_type": "markdown",
   "metadata": {
    "nbpresent": {
     "id": "69bc0e02-3877-4d15-9e4e-c0a6548d8a64"
    },
    "slideshow": {
     "slide_type": "notes"
    }
   },
   "source": [
    "### Scraping key / value standards and map features\n",
    "\n",
    "In order to make sense of the key/value string attributes of tag elements, the \"Map Features\" section of the Wiki was scraped to extract the commonly used keys and values.  These comprise the informal standards for categorizing map features. Assessing the data with this information is one way to gain insight into the quality of the data.  "
   ]
  },
  {
   "cell_type": "code",
   "execution_count": 21,
   "metadata": {
    "collapsed": true,
    "nbpresent": {
     "id": "e7b7fc2e-0303-47af-bf33-62a8072f30ff"
    },
    "slideshow": {
     "slide_type": "skip"
    }
   },
   "outputs": [],
   "source": [
    "# from bs4 import BeautifulSoup\n",
    "# import urllib \n",
    "\n",
    "# access the site and obtain BS object \n",
    "wikisite = 'http://wiki.openstreetmap.org/wiki/Map_Features'\n",
    "r = urllib.urlopen(wikisite).read() \n",
    "soup = BeautifulSoup(r, 'html.parser')"
   ]
  },
  {
   "cell_type": "code",
   "execution_count": 22,
   "metadata": {
    "collapsed": false,
    "nbpresent": {
     "id": "b73fa98f-4772-4035-bafb-e977fa36cfc2"
    },
    "scrolled": true,
    "slideshow": {
     "slide_type": "skip"
    }
   },
   "outputs": [],
   "source": [
    "# Displays the wiki \n",
    "# from IPython.display import HTML\n",
    "# HTML(wikisite)"
   ]
  },
  {
   "cell_type": "code",
   "execution_count": 23,
   "metadata": {
    "collapsed": false,
    "nbpresent": {
     "id": "7455acdb-5c77-4812-87a0-c14af5bcabe5"
    },
    "slideshow": {
     "slide_type": "skip"
    }
   },
   "outputs": [],
   "source": [
    "# Find all the wiki tables.  \n",
    "tables = soup.find_all(\"table\", class_='wikitable')"
   ]
  },
  {
   "cell_type": "code",
   "execution_count": 24,
   "metadata": {
    "collapsed": false,
    "nbpresent": {
     "id": "656005a4-1c71-4d0b-98d7-f046bd50ee46"
    },
    "slideshow": {
     "slide_type": "skip"
    }
   },
   "outputs": [
    {
     "data": {
      "text/plain": [
       "29"
      ]
     },
     "execution_count": 24,
     "metadata": {},
     "output_type": "execute_result"
    }
   ],
   "source": [
    "len(tables)"
   ]
  },
  {
   "cell_type": "code",
   "execution_count": 25,
   "metadata": {
    "collapsed": false,
    "nbpresent": {
     "id": "4eb7bb09-9d49-44e4-b144-2767f75205cc"
    },
    "scrolled": true,
    "slideshow": {
     "slide_type": "skip"
    }
   },
   "outputs": [],
   "source": [
    "# list of key values that are physical map features \n",
    "keys = [table.a['href'] for table in tables]\n",
    "\n"
   ]
  },
  {
   "cell_type": "markdown",
   "metadata": {
    "nbpresent": {
     "id": "ba0017f0-4805-43d1-a4aa-5ec6345316c6"
    },
    "slideshow": {
     "slide_type": "notes"
    }
   },
   "source": [
    "The features are displayed in 29\n",
    "tables.  However, the data structure represented by the tables are not consistent.  The 'key' value may represent a map feature, or an attribute of the feature; a 'value' value may be a subcategory of a map feature or an attribute.  Key values not representing map features were manually removed.  "
   ]
  },
  {
   "cell_type": "code",
   "execution_count": 26,
   "metadata": {
    "collapsed": false,
    "nbpresent": {
     "id": "0707bce4-eeca-405f-b7de-35e1b318f013"
    },
    "slideshow": {
     "slide_type": "skip"
    }
   },
   "outputs": [],
   "source": [
    "rows = soup.find_all('tr')"
   ]
  },
  {
   "cell_type": "code",
   "execution_count": 27,
   "metadata": {
    "collapsed": false,
    "nbpresent": {
     "id": "555a76a3-272e-46f8-8f4f-eb96d949a6ff"
    },
    "slideshow": {
     "slide_type": "skip"
    }
   },
   "outputs": [],
   "source": [
    "features = []\n",
    "for n, a1 in enumerate(rows): \n",
    "    a2 = a1.find_all('td')\n",
    "    try:\n",
    "        if a2[0].a['href'] in keys and a2[1].a['title']: \n",
    "                values = a2[1].a['title'].split(':')[1]\n",
    "                if \"(page does not exist)\" not in values: \n",
    "                    features.append(values)                \n",
    "    except: \n",
    "        pass"
   ]
  },
  {
   "cell_type": "code",
   "execution_count": 28,
   "metadata": {
    "collapsed": false,
    "nbpresent": {
     "id": "93f707fb-a507-4b3b-a4c8-cc6adae13151"
    },
    "slideshow": {
     "slide_type": "skip"
    }
   },
   "outputs": [],
   "source": [
    "# Find the elements with the 'key' values, 'values' values that correspond to an osm map feature.  \n",
    "# Count the occurence of each map feature.  \n",
    "\n",
    "# from collections import defaultdict \n",
    "\n",
    "key_tally = defaultdict(set)\n",
    "value_tally = defaultdict(set) \n",
    "feature_tally = defaultdict(set)\n",
    "\n",
    "for a in features: \n",
    "    key_tally[a.split('=')[0]]=0\n",
    "    value_tally[a.split('=')[1]]=0\n",
    "    feature_tally[a] = 0\n",
    "    \n",
    "def key_type(element, tally):\n",
    "    for a in tally: \n",
    "        if element.attrib['k'] == a: \n",
    "            tally[a] +=  1              \n",
    "    return tally\n",
    "\n",
    "def value_type(element, tally): \n",
    "    for a in tally: \n",
    "        a1 = a.split('=')\n",
    "        if element.attrib['k'] == a1[0] and element.attrib['v'] == a1[1]: \n",
    "            tally[a] += 1 \n",
    "    return tally\n",
    "\n",
    "def process_attrib(filename, tally, attrib):\n",
    "    for _, element in ET.iterparse(filename):\n",
    "        if element.tag == \"tag\": \n",
    "            if attrib == 'k':\n",
    "                tally = key_type(element, tally)\n",
    "            elif attrib == 'v': \n",
    "                tally = value_type(element, tally)\n",
    "    return tally\n"
   ]
  },
  {
   "cell_type": "code",
   "execution_count": 29,
   "metadata": {
    "collapsed": false,
    "nbpresent": {
     "id": "bbaf1adf-40ef-4935-a313-45263ef5c55a"
    },
    "slideshow": {
     "slide_type": "skip"
    }
   },
   "outputs": [],
   "source": [
    "featuresinHawaii = process_attrib(OSMFILE, feature_tally, 'v')"
   ]
  },
  {
   "cell_type": "code",
   "execution_count": 30,
   "metadata": {
    "collapsed": false,
    "nbpresent": {
     "id": "9d647eac-4494-4f14-8ce4-0bd8b722ca18"
    },
    "slideshow": {
     "slide_type": "skip"
    }
   },
   "outputs": [],
   "source": [
    "featuresinHawaii2 = defaultdict(set)\n",
    "for a in featuresinHawaii: \n",
    "    if featuresinHawaii[a] != 0: \n",
    "        featuresinHawaii2[a] = featuresinHawaii[a]"
   ]
  },
  {
   "cell_type": "code",
   "execution_count": 31,
   "metadata": {
    "collapsed": false,
    "nbpresent": {
     "id": "e2560510-412a-4008-bd12-27a756b4bc61"
    },
    "scrolled": true,
    "slideshow": {
     "slide_type": "skip"
    }
   },
   "outputs": [
    {
     "data": {
      "text/plain": [
       "defaultdict(set,\n",
       "            {u'access=designated': 3,\n",
       "             u'aeroway=aerodrome': 47,\n",
       "             u'aeroway=apron': 35,\n",
       "             u'aeroway=gate': 42,\n",
       "             u'aeroway=helipad': 144,\n",
       "             u'aeroway=heliport': 1,\n",
       "             u'aeroway=navigationaid': 1,\n",
       "             u'aeroway=runway': 51,\n",
       "             u'aeroway=taxiway': 303,\n",
       "             u'aeroway=terminal': 19,\n",
       "             u'aeroway=windsock': 5,\n",
       "             u'amenity=atm': 10,\n",
       "             u'amenity=bank': 44,\n",
       "             u'amenity=bar': 24,\n",
       "             u'amenity=bbq': 1,\n",
       "             u'amenity=bench': 25,\n",
       "             u'amenity=cafe': 104,\n",
       "             u'amenity=cinema': 8,\n",
       "             u'amenity=clinic': 5,\n",
       "             u'amenity=college': 71,\n",
       "             u'amenity=courthouse': 1,\n",
       "             u'amenity=dentist': 3,\n",
       "             u'amenity=doctors': 2,\n",
       "             u'amenity=dojo': 1,\n",
       "             u'amenity=embassy': 1,\n",
       "             u'amenity=fountain': 8,\n",
       "             u'amenity=fuel': 69,\n",
       "             u'amenity=hospital': 22,\n",
       "             u'amenity=kindergarten': 3,\n",
       "             u'amenity=library': 54,\n",
       "             u'amenity=marketplace': 13,\n",
       "             u'amenity=nightclub': 1,\n",
       "             u'amenity=parking': 1181,\n",
       "             u'amenity=pharmacy': 25,\n",
       "             u'amenity=planetarium': 1,\n",
       "             u'amenity=police': 14,\n",
       "             u'amenity=prison': 7,\n",
       "             u'amenity=pub': 8,\n",
       "             u'amenity=recycling': 21,\n",
       "             u'amenity=restaurant': 346,\n",
       "             u'amenity=school': 131,\n",
       "             u'amenity=shelter': 37,\n",
       "             u'amenity=shower': 9,\n",
       "             u'amenity=telephone': 11,\n",
       "             u'amenity=theatre': 22,\n",
       "             u'amenity=toilets': 161,\n",
       "             u'amenity=townhall': 4,\n",
       "             u'amenity=university': 11,\n",
       "             u'amenity=veterinary': 3,\n",
       "             u'barrier=block': 2,\n",
       "             u'barrier=bollard': 14,\n",
       "             u'barrier=chain': 1,\n",
       "             u'barrier=ditch': 4,\n",
       "             u'barrier=fence': 1079,\n",
       "             u'barrier=gate': 245,\n",
       "             u'barrier=hedge': 4,\n",
       "             u'barrier=wall': 68,\n",
       "             u'barrier=yes': 5,\n",
       "             u'boundary=administrative': 99,\n",
       "             u'boundary=maritime': 5,\n",
       "             u'building=apartments': 542,\n",
       "             u'building=cabin': 22,\n",
       "             u'building=cathedral': 1,\n",
       "             u'building=chapel': 4,\n",
       "             u'building=church': 11,\n",
       "             u'building=civic': 1,\n",
       "             u'building=commercial': 548,\n",
       "             u'building=construction': 4,\n",
       "             u'building=dormitory': 30,\n",
       "             u'building=farm': 9,\n",
       "             u'building=garage': 35,\n",
       "             u'building=garages': 11,\n",
       "             u'building=greenhouse': 81,\n",
       "             u'building=hangar': 63,\n",
       "             u'building=hospital': 6,\n",
       "             u'building=hotel': 114,\n",
       "             u'building=house': 495,\n",
       "             u'building=hut': 12,\n",
       "             u'building=industrial': 32,\n",
       "             u'building=office': 45,\n",
       "             u'building=public': 6,\n",
       "             u'building=residential': 92,\n",
       "             u'building=retail': 48,\n",
       "             u'building=roof': 105,\n",
       "             u'building=school': 230,\n",
       "             u'building=service': 5,\n",
       "             u'building=shed': 4,\n",
       "             u'building=shrine': 1,\n",
       "             u'building=stable': 1,\n",
       "             u'building=temple': 9,\n",
       "             u'building=university': 2,\n",
       "             u'building=warehouse': 25,\n",
       "             u'craft=brewery': 1,\n",
       "             u'craft=caterer': 1,\n",
       "             u'craft=photographer': 1,\n",
       "             u'emergency=defibrillator': 13,\n",
       "             u'emergency=phone': 36,\n",
       "             u'highway=bridleway': 8,\n",
       "             u'highway=construction': 15,\n",
       "             u'highway=crossing': 133,\n",
       "             u'highway=cycleway': 20,\n",
       "             u'highway=escape': 1,\n",
       "             u'highway=footway': 1165,\n",
       "             u'highway=motorway': 251,\n",
       "             u'highway=path': 792,\n",
       "             u'highway=pedestrian': 89,\n",
       "             u'highway=primary': 908,\n",
       "             u'highway=raceway': 13,\n",
       "             u'highway=residential': 10301,\n",
       "             u'highway=road': 3,\n",
       "             u'highway=secondary': 438,\n",
       "             u'highway=service': 11434,\n",
       "             u'highway=steps': 68,\n",
       "             u'highway=stop': 75,\n",
       "             u'highway=tertiary': 1053,\n",
       "             u'highway=track': 2480,\n",
       "             u'highway=trunk': 360,\n",
       "             u'highway=unclassified': 1222,\n",
       "             u'historic=aircraft': 6,\n",
       "             u'historic=memorial': 12,\n",
       "             u'historic=milestone': 1,\n",
       "             u'historic=monument': 10,\n",
       "             u'historic=ruins': 15,\n",
       "             u'historic=ship': 3,\n",
       "             u'historic=tomb': 2,\n",
       "             u'historic=wreck': 4,\n",
       "             u'historic=yes': 3,\n",
       "             u'landuse=basin': 24,\n",
       "             u'landuse=brownfield': 3,\n",
       "             u'landuse=cemetery': 24,\n",
       "             u'landuse=commercial': 80,\n",
       "             u'landuse=conservation': 1,\n",
       "             u'landuse=construction': 6,\n",
       "             u'landuse=farmland': 175,\n",
       "             u'landuse=farmyard': 18,\n",
       "             u'landuse=forest': 231,\n",
       "             u'landuse=grass': 344,\n",
       "             u'landuse=greenfield': 6,\n",
       "             u'landuse=industrial': 212,\n",
       "             u'landuse=landfill': 4,\n",
       "             u'landuse=meadow': 17,\n",
       "             u'landuse=military': 59,\n",
       "             u'landuse=orchard': 223,\n",
       "             u'landuse=quarry': 14,\n",
       "             u'landuse=reservoir': 58,\n",
       "             u'landuse=residential': 328,\n",
       "             u'landuse=retail': 45,\n",
       "             u'leisure=common': 12,\n",
       "             u'leisure=fishing': 2,\n",
       "             u'leisure=garden': 41,\n",
       "             u'leisure=hackerspace': 1,\n",
       "             u'leisure=marina': 15,\n",
       "             u'leisure=park': 225,\n",
       "             u'leisure=pitch': 564,\n",
       "             u'leisure=playground': 19,\n",
       "             u'leisure=slipway': 15,\n",
       "             u'leisure=stadium': 9,\n",
       "             u'leisure=track': 47,\n",
       "             u'military=airfield': 1,\n",
       "             u'natural=bay': 325,\n",
       "             u'natural=beach': 444,\n",
       "             u'natural=cliff': 182,\n",
       "             u'natural=coastline': 217,\n",
       "             u'natural=grassland': 7,\n",
       "             u'natural=heath': 21,\n",
       "             u'natural=peak': 24,\n",
       "             u'natural=ridge': 37,\n",
       "             u'natural=rock': 7,\n",
       "             u'natural=sand': 244,\n",
       "             u'natural=scree': 4,\n",
       "             u'natural=scrub': 24,\n",
       "             u'natural=spring': 1,\n",
       "             u'natural=tree': 883,\n",
       "             u'natural=valley': 3,\n",
       "             u'natural=volcano': 92,\n",
       "             u'natural=water': 453,\n",
       "             u'natural=wetland': 24,\n",
       "             u'natural=wood': 262,\n",
       "             u'place=city': 15,\n",
       "             u'place=county': 8,\n",
       "             u'place=farm': 3,\n",
       "             u'place=hamlet': 101,\n",
       "             u'place=island': 18,\n",
       "             u'place=islet': 23,\n",
       "             u'place=locality': 83,\n",
       "             u'place=neighbourhood': 40,\n",
       "             u'place=state': 2,\n",
       "             u'place=suburb': 183,\n",
       "             u'place=town': 88,\n",
       "             u'place=village': 44,\n",
       "             u'power=generator': 132,\n",
       "             u'power=line': 80,\n",
       "             u'power=plant': 7,\n",
       "             u'power=pole': 1213,\n",
       "             u'power=substation': 38,\n",
       "             u'power=tower': 316,\n",
       "             u'railway=abandoned': 3,\n",
       "             u'railway=construction': 1,\n",
       "             u'railway=disused': 6,\n",
       "             u'railway=miniature': 1,\n",
       "             u'railway=monorail': 3,\n",
       "             u'railway=preserved': 8,\n",
       "             u'railway=rail': 1,\n",
       "             u'railway=station': 11,\n",
       "             u'route=ferry': 1,\n",
       "             u'route=road': 23,\n",
       "             u'sport=athletics': 8,\n",
       "             u'sport=baseball': 90,\n",
       "             u'sport=basketball': 74,\n",
       "             u'sport=bowls': 1,\n",
       "             u'sport=canoe': 4,\n",
       "             u'sport=equestrian': 13,\n",
       "             u'sport=football': 1,\n",
       "             u'sport=golf': 42,\n",
       "             u'sport=motor': 4,\n",
       "             u'sport=multi': 15,\n",
       "             u'sport=running': 5,\n",
       "             u'sport=shooting': 1,\n",
       "             u'sport=skateboard': 4,\n",
       "             u'sport=skiing': 1,\n",
       "             u'sport=soccer': 9,\n",
       "             u'sport=surfing': 9,\n",
       "             u'sport=swimming': 37,\n",
       "             u'sport=tennis': 271,\n",
       "             u'sport=volleyball': 6,\n",
       "             u'tourism=apartment': 1,\n",
       "             u'tourism=aquarium': 1,\n",
       "             u'tourism=artwork': 9,\n",
       "             u'tourism=attraction': 120,\n",
       "             u'tourism=chalet': 1,\n",
       "             u'tourism=gallery': 2,\n",
       "             u'tourism=hostel': 11,\n",
       "             u'tourism=hotel': 149,\n",
       "             u'tourism=information': 22,\n",
       "             u'tourism=museum': 30,\n",
       "             u'tourism=viewpoint': 63,\n",
       "             u'tourism=yes': 1,\n",
       "             u'tourism=zoo': 2,\n",
       "             u'waterway=canal': 73,\n",
       "             u'waterway=ditch': 91,\n",
       "             u'waterway=dock': 4,\n",
       "             u'waterway=drain': 71,\n",
       "             u'waterway=river': 95,\n",
       "             u'waterway=riverbank': 47,\n",
       "             u'waterway=stream': 447,\n",
       "             u'waterway=waterfall': 21,\n",
       "             u'waterway=weir': 3})"
      ]
     },
     "execution_count": 31,
     "metadata": {},
     "output_type": "execute_result"
    }
   ],
   "source": [
    "featuresinHawaii2"
   ]
  },
  {
   "cell_type": "code",
   "execution_count": 32,
   "metadata": {
    "collapsed": false,
    "nbpresent": {
     "id": "40fc059b-c46a-4927-b122-09c2616e3468"
    },
    "slideshow": {
     "slide_type": "skip"
    }
   },
   "outputs": [
    {
     "data": {
      "text/plain": [
       "247"
      ]
     },
     "execution_count": 32,
     "metadata": {},
     "output_type": "execute_result"
    }
   ],
   "source": [
    "len(featuresinHawaii2)"
   ]
  },
  {
   "cell_type": "markdown",
   "metadata": {
    "nbpresent": {
     "id": "ff025892-1a52-47a7-9764-935b34a704a7"
    },
    "slideshow": {
     "slide_type": "notes"
    }
   },
   "source": [
    "The above dictionary provides a tally of all the features on this map.  Subsequent analysis with the use of supporting information can delve deeper into characterizing the dataset, and also give insight into the subject matter. "
   ]
  },
  {
   "cell_type": "markdown",
   "metadata": {
    "nbpresent": {
     "id": "e35b0dd3-c86f-4dae-923b-7e9048ff4a19"
    },
    "slideshow": {
     "slide_type": "notes"
    }
   },
   "source": [
    "### Accuracy and uniformity \n",
    "\n",
    "Besides the issue of accuracy of the features described in the OSM elements, proper nomenclature of map objects (streets, buildings, etc.) in the Hawaiian language is another dimension to consider.  The Hawaiian language did not exist in written form (except in petroglyph symbols) until the 1820s; in its current use, the Hawaiian written language uses 12 letters of the english alphabet, plus a glottal stop (the 'okina).  The vowels can also have macrons (looks like a hypen on top) that affect its pronunciation.  In practice, many pidgin/creole and colloquial terms exist as it has fluidly absorbed  foreign words.  For these reasons, the Hawaiian language is difficult to formalize.  Nevertheless, the landmarks presumably follow formal nomenclature that gives proper respect to the culture of Hawai'i.  The text data can be assessed for accuracy by comparing with an outside source (an official lexicon), while 'allophones' can be consolidated to allow uniformity in names.  \n",
    "\n",
    "Textual input of street names can give rise to many variants.  The '`addr`' category in map features has specific sub-fields for respective components of a postal address (street name, number, postal code, etc.).  User omission, typos, miscategorization, abbreviations, etc. are common sources of variability.  \n",
    "\n",
    "The end word of street names was audited to account for variations.  A typical ending is expected ('street', 'avenue', etc.) for street names.  In Hawai'i, Hawaiian street names typically include the expected ending, but exceptions may exist.  "
   ]
  },
  {
   "cell_type": "code",
   "execution_count": 33,
   "metadata": {
    "collapsed": false,
    "nbpresent": {
     "id": "de4e706c-45fe-4280-b230-4783dc42924a"
    },
    "slideshow": {
     "slide_type": "skip"
    }
   },
   "outputs": [
    {
     "name": "stdout",
     "output_type": "stream",
     "text": [
      "street count is: 973\n",
      "Lusitania St. => Lusitania Street\n",
      "Makena Alanui => Makena Alanui\n",
      "Kapalai Rd => Kapalai Road\n",
      "Paradise Ala Kai => Paradise Ala Kai\n",
      "Pali Momi => Pali Momi\n",
      "Moanalua, Honolulu => Moanalua, Honolulu\n",
      "Kamehameha Hwy => Kamehameha Highway\n",
      "Orchid Land Dr => Orchid Land Drive\n",
      "Kipapa Dr => Kipapa Drive\n",
      "kanehameha highway => kanehameha Highway\n",
      "South King => South King\n",
      "Pi'Ikea Ave. => Pi'Ikea Avenue\n",
      "South Kamehameha Ave. => South Kamehameha Avenue\n",
      "101 Pakaula St Kahului 96732 => 101 Pakaula St Kahului 96732\n",
      "Wainee St => Wainee Street\n",
      "Ala Pumalu St => Ala Pumalu Street\n",
      "Lusitania St => Lusitania Street\n",
      "Milo St => Milo Street\n",
      "Kalakaua Ave => Kalakaua Avenue\n",
      "Meheula Pkwy => Meheula Parkway\n",
      "Pualei Cir, Apt 106 => Pualei Cir, Apt 106\n",
      "king => king\n",
      "Wailea Alanui Drive #A23 => Wailea Alanui Drive #A23\n",
      "Beach Walk => Beach Way\n",
      "Mauna Lani Drive #410 => Mauna Lani Drive #410\n",
      "Ala Moana Blvd => Ala Moana Boulevard\n",
      "Kahakai Blvd => Kahakai Boulevard\n",
      "HINA AVE => HINA Avenue\n",
      "corrected name count is: 22\n"
     ]
    }
   ],
   "source": [
    "# Audit street names: surve street name endings \n",
    "# Map nomenclature variants in a dictionary ('mapping')\n",
    "# Correct \n",
    "\n",
    "#from collections import defaultdict\n",
    "\n",
    "street_type_re = re.compile(r'\\b\\S+\\.?$', re.IGNORECASE)\n",
    "expected = [\"Street\", \"Avenue\", \"Boulevard\", \"Drive\", \"Court\", \"Place\", \"Square\", \"Lane\", \"Road\", \n",
    "            \"Trail\", \"Parkway\", \"Commons\", \"Highway\", \"Loop\", \"Mall\", \"Terrace\", \"Parkway\", \"Circle\", \"Way\", \"Center\"]\n",
    "\n",
    "\n",
    "mapping = { \"St\": \"Street\",\n",
    "            \"St.\": \"Street\", \n",
    "            \"Ave\": \"Avenue\", \n",
    "           \"AVE\" : \"Avenue\", \n",
    "            \"Rd.\": \"Road\", \n",
    "           \"Rd\" : \"Road\", \n",
    "           \"Blvd\": \"Boulevard\", \n",
    "           \"Hwy\" : \"Highway\", \n",
    "           \"Pkwy\" : \"Parkway\", \n",
    "           \"highway\" : \"Highway\"\n",
    "           \n",
    "            }\n",
    "\n",
    "def audit_street_type(street_types, street_name):\n",
    "    m = street_type_re.search(street_name)\n",
    "    if m:\n",
    "        street_type = m.group()\n",
    "        if street_type not in expected:\n",
    "            street_types[street_type].add(street_name)\n",
    "\n",
    "\n",
    "def is_street_name(elem):\n",
    "    \n",
    "    return (elem.attrib['k'] == \"addr:street\")\n",
    "\n",
    "\n",
    "def audit(osmfile):\n",
    "    count = 0\n",
    "    # parses osm file, \n",
    "    #finds \"tag\" or \"way\" elements \n",
    "    #if k attibute indicates enclosing element tag is street address, \n",
    "    #evaluates tag attribute value (which is street name string)\n",
    "    #\n",
    "#    osm_file = open(osmfile, \"r\")\n",
    "    street_types = defaultdict(set)\n",
    "    for event, elem in ET.iterparse(osmfile, events=(\"start\",)):\n",
    "\n",
    "        if elem.tag == \"node\" or elem.tag == \"way\":\n",
    "            for tag in elem.iter(\"tag\"):\n",
    "                if is_street_name(tag):\n",
    "                    \n",
    "                    audit_street_type(street_types, tag.attrib['v'])\n",
    "#                    print tag.attrib['v']\n",
    "                    count += 1 \n",
    "#    osm_file.close()\n",
    "#    print \"street types\", street_types\n",
    "    print 'street count is:', count\n",
    "    return street_types\n",
    "\n",
    "\n",
    "def update_name(name, mapping):\n",
    "    \n",
    "#    print 'name is:',name.split(' ')[-1], 'mapping is ', mapping\n",
    "    wordlist = name.split(' ')\n",
    "    lastbit = wordlist[-1]\n",
    "    lastlen = len(lastbit)\n",
    "    rest = name[:-lastlen]\n",
    "    m = re.search(r'\\S{1,4}\\.?$', lastbit) \n",
    "#    print 'lastbit:',lastbit, m.group()\n",
    "#    street_types[m.group()].add(name)\n",
    "    if m.group() in mapping.keys(): \n",
    "        name = rest + mapping[m.group()]\n",
    "#        mapping[lastbit] = mapping[m.group()] \n",
    "    \n",
    "    else: \n",
    "        for ex in expected: \n",
    "            if unicode(ex.lower) == unicode(lastbit): \n",
    "                name = rest + ex \n",
    "            elif ex[0].lower ==lastbit[0].lower and (ex[1] == lastbit[1] or lastbit[1] == ex[-1]):\n",
    "                name = rest + ex\n",
    "            elif lastbit == 'highway': \n",
    "                name = rest + mapping[lastbit]\n",
    "#                print name\n",
    "\n",
    "#                mapping[lastbit] = ex \n",
    "                \n",
    "#        for a in \n",
    "#    print \"mapping:\",mapping\n",
    "    return name\n",
    "\n",
    "st_types = audit(OSMFILE)\n",
    "# pprint.pprint(dict(st_types))\n",
    "\n",
    "for st_type, ways in st_types.iteritems():\n",
    "    for name in ways:\n",
    "        better_name = update_name(name, mapping)\n",
    "        print name, \"=>\", better_name\n",
    "print 'corrected name count is:', len(st_types.items())\n",
    "\n",
    "        \n"
   ]
  },
  {
   "cell_type": "markdown",
   "metadata": {
    "nbpresent": {
     "id": "9895951d-eb58-4c87-9b8c-8916429b1d26"
    },
    "slideshow": {
     "slide_type": "notes"
    }
   },
   "source": [
    "___\n",
    "\n",
    "There are 973 instances of 'street address'es on this map.  Of these, 22 were flagged for correction into their proper endings.  \n",
    "\n",
    "A street count of 973 seems to be low for an entire state; this indicates there is much work to be done for the OSM project.  \n",
    "\n",
    "___"
   ]
  },
  {
   "cell_type": "markdown",
   "metadata": {
    "nbpresent": {
     "id": "5e913fba-5ef3-41c6-a4ea-4eaf3209f5a1"
    },
    "slideshow": {
     "slide_type": "notes"
    }
   },
   "source": [
    "## Data handling: .osm to .csv to sql\n",
    "\n",
    "As an intermediate step to the creation of an sql database, 'node' and 'ways' element data were extracted from the .osm file and organized into .csv datasets.  A validation process was included to ensure that the data fit the schema. The schema shapes the osm data structure into a normalized table template.  "
   ]
  },
  {
   "cell_type": "code",
   "execution_count": 34,
   "metadata": {
    "collapsed": false,
    "nbpresent": {
     "id": "f058ee03-f2fe-44ca-946a-96948c81388b"
    },
    "slideshow": {
     "slide_type": "skip"
    }
   },
   "outputs": [],
   "source": [
    "'''\n",
    "Import to .csv (Code adapted from Udacity course exercises)\n",
    "'''\n",
    "# import csv\n",
    "# import codecs\n",
    "# import re\n",
    "# import xml.etree.cElementTree as ET\n",
    "# import cerberus\n",
    "# import schema\n",
    "\n",
    "OSM_PATH = DBFILE\n",
    "NODES_PATH = \"nodes.csv\"\n",
    "NODE_TAGS_PATH = \"nodes_tags.csv\"\n",
    "WAYS_PATH = \"ways.csv\"\n",
    "WAY_NODES_PATH = \"ways_nodes.csv\"\n",
    "WAY_TAGS_PATH = \"ways_tags.csv\"\n",
    "DB_TABLES = ('nodes','node_tags','ways','way_nodes','way_tags') \n",
    "LOWER_COLON = re.compile(r'^([a-z]|_)+:([a-z]|_)+')\n",
    "PROBLEMCHARS = re.compile(r'[=\\+/&<>;\\'\"\\?%#$@\\,\\. \\t\\r\\n]')\n",
    "\n",
    "SCHEMA = schema.schema\n",
    "\n",
    "# Make sure the fields order in the csvs matches the column order in the sql table schema\n",
    "NODE_FIELDS = ['id', 'lat', 'lon', 'user', 'uid', 'version', 'changeset', 'timestamp']\n",
    "NODE_TAGS_FIELDS = ['id', 'key', 'value', 'type']\n",
    "WAY_FIELDS = ['id', 'user', 'uid', 'version', 'changeset', 'timestamp']\n",
    "WAY_TAGS_FIELDS = ['id', 'key', 'value', 'type']\n",
    "WAY_NODES_FIELDS = ['id', 'node_id', 'position'] "
   ]
  },
  {
   "cell_type": "code",
   "execution_count": 35,
   "metadata": {
    "collapsed": true,
    "nbpresent": {
     "id": "c564e8b6-8017-445f-9383-ddf797d95338"
    },
    "slideshow": {
     "slide_type": "skip"
    }
   },
   "outputs": [],
   "source": [
    "# import re\n",
    "# import pprint\n",
    "\n",
    "# shapes elements into a flattened table\n",
    "def shape_element(element, node_attr_fields=NODE_FIELDS, way_attr_fields=WAY_FIELDS,\n",
    "                  problem_chars=PROBLEMCHARS, default_tag_type='regular'):\n",
    "    \"\"\"Clean and shape node or way XML element to Python dict\"\"\"\n",
    "    \n",
    "    way_attribs = {}\n",
    "    way_nodes = []\n",
    "    tags = []  # Handle secondary tags the same way for both node and way elements\n",
    "\n",
    "    if element.tag == 'node':\n",
    "        node_attribs = {\n",
    "            'id':element.attrib['id'], \n",
    "            'user':element.attrib['user'], \n",
    "            'uid':element.attrib['uid'], \n",
    "            'version': element.attrib['version'],\n",
    "            'lat': element.attrib['lat'], \n",
    "            'lon': element.attrib['lon'], \n",
    "            'timestamp': element.attrib['timestamp'], \n",
    "            'changeset': element.attrib['changeset']\n",
    "            } \n",
    "        tags = shape_tags(element, tags)\n",
    "        return {'node': node_attribs, 'node_tags': tags}\n",
    "\n",
    "    elif element.tag == 'way':\n",
    "        way_attribs = {\n",
    "            'user':element.attrib['user'], \n",
    "            'uid':element.attrib['uid'], \n",
    "            'version': element.attrib['version'],\n",
    "            'id': element.attrib['id'], \n",
    "            'timestamp': element.attrib['timestamp'], \n",
    "            'changeset': element.attrib['changeset']\n",
    "            } \n",
    "        tags = shape_tags(element,tags)\n",
    "        # way nodes \n",
    "        for n, n1 in enumerate(element.iter(\"nd\")): \n",
    "            nd1 = { \n",
    "                'id': element.attrib['id'], \n",
    "                'node_id': n1.attrib['ref'], \n",
    "                'position': n\n",
    "            } \n",
    "            way_nodes.append(nd1)\n",
    "        \n",
    "        return {'way': way_attribs, 'way_nodes': way_nodes, 'way_tags': tags}\n",
    "\n",
    "# shapes osm element attributes into a flattened structure\n",
    "def shape_tags(element, tags): \n",
    "        try: \n",
    "            for c1 in element.iter(\"tag\"): \n",
    "                c2= {}\n",
    "                c2['id'] = element.attrib['id']\n",
    "                c3 = c1.attrib['k'].split(':') \n",
    "\n",
    "                if len(c3) == 1: \n",
    "                    c2['key'] = c1.attrib['k'] \n",
    "                    c2['type'] = 'regular' \n",
    "                    c2['value'] = c1.attrib['v']\n",
    "                elif len(c3) == 2: \n",
    "                    c2['key'] = c3[1] \n",
    "                    c2['type'] = c3[0]\n",
    "                c2['value'] = c1.attrib['v'] \n",
    " \n",
    "                if len(c3) == 3: \n",
    "                    c2['key'] = str(c3[1]+\":\"+c3[2])\n",
    "                    c2['type'] = c3[0]\n",
    "\n",
    "                tags.append(c2) \n",
    "        except: \n",
    "            print \"error in \", c2\n",
    "\n",
    "        return tags\n",
    "    \n",
    "# ================================================== #\n",
    "#               Helper Functions                     #\n",
    "# ================================================== #\n",
    "def get_element(osm_file, tags=('node', 'way', 'relation')):\n",
    "    \"\"\"Yield element if it is the right type of tag\"\"\"\n",
    "\n",
    "    context = ET.iterparse(osm_file, events=('start', 'end'))\n",
    "    _, root = next(context)\n",
    "    for event, elem in context:\n",
    "        if event == 'end' and elem.tag in tags:\n",
    "            yield elem\n",
    "            root.clear()\n",
    "\n",
    "# uses a validator (cerberus) with schema\n",
    "def validate_element(element, validator, schema=SCHEMA):\n",
    "    \"\"\"Raise ValidationError if element does not match schema\"\"\"\n",
    "    if validator.validate(element, schema) is not True:\n",
    "        field, errors = next(validator.errors.iteritems())\n",
    "        message_string = \"\\nElement of type '{0}' has the following errors:\\n{1}\"\n",
    "        error_strings = (\n",
    "            \"{0}: {1}\".format(k, v if isinstance(v, str) else \", \".join(v))\n",
    "            for k, v in errors.iteritems()\n",
    "        )\n",
    "        raise cerberus.ValidationError(\n",
    "            message_string.format(field, \"\\n\".join(error_strings))\n",
    "        )\n",
    "\n",
    "# Allows csv module to handle unicode text\n",
    "class UnicodeDictWriter(csv.DictWriter, object):\n",
    "    \"\"\"Extend csv.DictWriter to handle Unicode input\"\"\"\n",
    "    def writerow(self, row):\n",
    "        super(UnicodeDictWriter, self).writerow({\n",
    "            k: (v.encode('utf-8') if isinstance(v, unicode) else v) for k, v in row.iteritems()\n",
    "        })\n",
    "\n",
    "    def writerows(self, rows):\n",
    "        for row in rows:\n",
    "            self.writerow(row)\n",
    "\n",
    "\n",
    "# ================================================== #\n",
    "#               Main Function                        #\n",
    "# ================================================== #\n",
    "def process_map(file_in, validate):\n",
    "    \"\"\"Iteratively process each XML element and write to csv(s)\"\"\"\n",
    "\n",
    "    with codecs.open(NODES_PATH, 'w') as nodes_file, \\\n",
    "         codecs.open(NODE_TAGS_PATH, 'w') as nodes_tags_file, \\\n",
    "         codecs.open(WAYS_PATH, 'w') as ways_file, \\\n",
    "         codecs.open(WAY_NODES_PATH, 'w') as way_nodes_file, \\\n",
    "         codecs.open(WAY_TAGS_PATH, 'w') as way_tags_file:\n",
    "\n",
    "        nodes_writer = UnicodeDictWriter(nodes_file, NODE_FIELDS)\n",
    "        node_tags_writer = UnicodeDictWriter(nodes_tags_file, NODE_TAGS_FIELDS)\n",
    "        ways_writer = UnicodeDictWriter(ways_file, WAY_FIELDS)\n",
    "        way_nodes_writer = UnicodeDictWriter(way_nodes_file, WAY_NODES_FIELDS)\n",
    "        way_tags_writer = UnicodeDictWriter(way_tags_file, WAY_TAGS_FIELDS)\n",
    "\n",
    "        nodes_writer.writeheader()\n",
    "        node_tags_writer.writeheader()\n",
    "        ways_writer.writeheader()\n",
    "        way_nodes_writer.writeheader()\n",
    "        way_tags_writer.writeheader()\n",
    "\n",
    "        validator = cerberus.Validator()\n",
    "\n",
    "        for element in get_element(file_in, tags=('node', 'way')):\n",
    "            el = shape_element(element)\n",
    "            if el:\n",
    "                if validate is True:\n",
    "                    validate_element(el, validator)\n",
    "\n",
    "                if element.tag == 'node':\n",
    "                    nodes_writer.writerow(el['node'])\n",
    "                    node_tags_writer.writerows(el['node_tags'])\n",
    "                elif element.tag == 'way':\n",
    "                    ways_writer.writerow(el['way'])\n",
    "                    way_nodes_writer.writerows(el['way_nodes'])\n",
    "                    way_tags_writer.writerows(el['way_tags'])\n",
    "\n",
    "\n",
    "\n"
   ]
  },
  {
   "cell_type": "code",
   "execution_count": 36,
   "metadata": {
    "collapsed": true,
    "nbpresent": {
     "id": "dbb14549-f285-48b1-970e-e5e7af7ca374"
    },
    "slideshow": {
     "slide_type": "skip"
    }
   },
   "outputs": [],
   "source": [
    "# Process .osm file into .csvs\n",
    "process_map(OSMFILE, 'True')"
   ]
  },
  {
   "cell_type": "markdown",
   "metadata": {
    "nbpresent": {
     "id": "8a2ff289-2afe-4f41-9df0-50e7d376743b"
    },
    "slideshow": {
     "slide_type": "notes"
    }
   },
   "source": [
    "The csv library cannot handle unicode input.  Some user-entered text entries (e.g. '`utf8-xe3x83x92xe3x83xad`') were in unicode which raised errors when passed into `csvreader`.  A wrapper for the reader module was available to convert unicode to UTF-8.   \n"
   ]
  },
  {
   "cell_type": "markdown",
   "metadata": {
    "nbpresent": {
     "id": "fe447af8-b0b6-4cdc-a66c-c1684a2a5a47"
    },
    "slideshow": {
     "slide_type": "notes"
    }
   },
   "source": [
    "### Database creation and table insertion"
   ]
  },
  {
   "cell_type": "markdown",
   "metadata": {
    "nbpresent": {
     "id": "8c8bf148-a264-4691-8c8a-4232beb1747b"
    },
    "slideshow": {
     "slide_type": "notes"
    }
   },
   "source": [
    "The data in .csv files are now inserted into an sql database.  Appropriate tables (one per osm element and respective tags) are created.  "
   ]
  },
  {
   "cell_type": "code",
   "execution_count": 37,
   "metadata": {
    "collapsed": true,
    "nbpresent": {
     "id": "562a2cf0-21ec-4160-af6c-b13f8eacf695"
    },
    "slideshow": {
     "slide_type": "skip"
    }
   },
   "outputs": [],
   "source": [
    "# Create sql table with schema provided. \n",
    "\n",
    "# import sqlite3 \n",
    "with sqlite3.connect(DBFILE) as db: \n",
    "    cursor = db.cursor()\n",
    "\n",
    "# create dictionary of queries, one for each table needed in database, directly matching sql schema  \n",
    "QUERY = {\n",
    "    'nodes':\n",
    "        '''CREATE TABLE nodes (\n",
    "        id INTEGER PRIMARY KEY NOT NULL,\n",
    "        lat REAL,\n",
    "        lon REAL,\n",
    "        user TEXT,\n",
    "        uid INTEGER,\n",
    "        version INTEGER,\n",
    "        changeset INTEGER,\n",
    "        timestamp TEXT );''' ,\n",
    "    'nodes_tags':    \n",
    "        '''CREATE TABLE nodes_tags (\n",
    "        id INTEGER,\n",
    "        key TEXT,\n",
    "        value TEXT,\n",
    "        type TEXT,\n",
    "        FOREIGN KEY (id) REFERENCES nodes(id) ); ''', \n",
    "    'ways':    \n",
    "        '''CREATE TABLE ways (\n",
    "        id INTEGER PRIMARY KEY NOT NULL,\n",
    "        user TEXT,\n",
    "        uid INTEGER,\n",
    "        version TEXT,\n",
    "        changeset INTEGER,\n",
    "        timestamp TEXT ); ''', \n",
    "    'ways_tags':    \n",
    "        '''CREATE TABLE ways_tags (\n",
    "        id INTEGER NOT NULL,\n",
    "        key TEXT NOT NULL,\n",
    "        value TEXT NOT NULL,\n",
    "        type TEXT,\n",
    "        FOREIGN KEY (id) REFERENCES ways(id) ); ''', \n",
    "    'ways_nodes':\n",
    "        '''CREATE TABLE ways_nodes (\n",
    "        id INTEGER NOT NULL,\n",
    "        node_id INTEGER NOT NULL,\n",
    "        position INTEGER NOT NULL,\n",
    "        FOREIGN KEY (id) REFERENCES ways(id),\n",
    "        FOREIGN KEY (node_id) REFERENCES nodes(id)\n",
    "        );'''\n",
    "}"
   ]
  },
  {
   "cell_type": "code",
   "execution_count": 38,
   "metadata": {
    "collapsed": true,
    "nbpresent": {
     "id": "a6884e2e-5a90-43ea-9bc1-3db3cd39ad6e"
    },
    "slideshow": {
     "slide_type": "skip"
    }
   },
   "outputs": [],
   "source": [
    "# 'Helper files for data import to database\n",
    "\n",
    "# import csv \n",
    "# from pprint import pprint\n",
    "# import io\n",
    "\n",
    "# change unicode bytestrings to utf-8\n",
    "class UTF8Recoder:\n",
    "    \"\"\"\n",
    "    Iterator that reads an encoded stream and reencodes the input to UTF-8\n",
    "    \"\"\"\n",
    "    def __init__(self, f, encoding):\n",
    "        self.reader = codecs.getreader(encoding)(f)\n",
    "\n",
    "    def __iter__(self):\n",
    "        return self\n",
    "\n",
    "    def next(self):\n",
    "        return self.reader.next().encode(\"utf-8\")\n",
    "class UnicodeReader:\n",
    "    \"\"\"\n",
    "    A CSV reader which will iterate over lines in the CSV file \"f\",\n",
    "    which is encoded in the given encoding.\n",
    "    \"\"\"\n",
    "\n",
    "    def __init__(self, f, dialect=csv.excel, encoding=\"utf-8\", **kwds):\n",
    "        f = UTF8Recoder(f, encoding)\n",
    "        self.reader = csv.reader(f, dialect=dialect, **kwds)\n",
    "\n",
    "    def next(self):\n",
    "        row = self.reader.next()\n",
    "        return [unicode(s, \"utf-8\") for s in row]\n",
    "\n",
    "    def __iter__(self):\n",
    "        return self"
   ]
  },
  {
   "cell_type": "code",
   "execution_count": 39,
   "metadata": {
    "collapsed": true,
    "nbpresent": {
     "id": "0ba4e2bd-c629-4426-9138-9f94dd50d843"
    },
    "slideshow": {
     "slide_type": "skip"
    }
   },
   "outputs": [],
   "source": [
    "# Next iteration: node_tags.csv to node_tags table \n",
    "# create a function to transfer data from .csv to sql database table\n",
    "## extract rows of data from .csv to tuples, rendering all values into unicode \n",
    "\n",
    "def csv_to_tuple(csvfile):\n",
    "    with open(csvfile,'rb') as csvf: \n",
    "        csvReader = UnicodeReader(csvf)\n",
    "        csvd = [tuple(a1) for a1 in csvReader]\n",
    "        header = csvd[0]\n",
    "        print 'csv file header: ', header\n",
    "        return csvd\n",
    "\n",
    "# takes list of tuples (tlist, extracted from .csv) and inserts into sql table in database\n",
    "def tuples_to_table(tlist, table, db): \n",
    "    db1 = sqlite3.connect(db)\n",
    "    cursor1 = db1.cursor()    \n",
    "    vname_ = tuple(a.encode('utf-8') for a in tlist[0]) # sql variable name must be a tuple in UTF_8 encoding\n",
    "    print 'table columns: ', vname_\n",
    "    cursor1.executemany(\n",
    "    '''INSERT INTO {}{} VALUES ({}?);'''.format(table, \n",
    "                                                 vname_, \n",
    "                                                 '?,'*(len(tlist[0])-1)), \n",
    "        tlist[1:])\n",
    "    db1.commit() \n",
    "    db1.close()\n"
   ]
  },
  {
   "cell_type": "code",
   "execution_count": 40,
   "metadata": {
    "collapsed": true,
    "nbpresent": {
     "id": "92da70d5-2134-4fae-92d4-617ecf46a866"
    },
    "slideshow": {
     "slide_type": "skip"
    }
   },
   "outputs": [],
   "source": [
    "# Next iteration: ways.csv to ways table \n",
    "# create function that takes data from .csv to table from start to finish  \n",
    "\n",
    "def csv_to_table(csvfile, table, dbfile): \n",
    "    \n",
    "    tdata = csv_to_tuple(csvfile) \n",
    "#    print 'tdata[:2]', tdata[:2]\n",
    "    tuples_to_table(tdata, table, dbfile)    \n",
    "\n",
    "#csv_to_table(CSVFILE, TABLE, DBFILE)"
   ]
  },
  {
   "cell_type": "code",
   "execution_count": 41,
   "metadata": {
    "collapsed": true,
    "nbpresent": {
     "id": "84d32651-8f59-4266-827a-c3c632cc091e"
    },
    "slideshow": {
     "slide_type": "skip"
    }
   },
   "outputs": [],
   "source": [
    "# Next iteration: ways_tags to database \n",
    "# Create function that creates database and necessary tables, takes data from .csv file to table  \n",
    "\n",
    "def csv_to_sql(csvfile, table, database, sqlquery): \n",
    "    db = sqlite3.connect(database)\n",
    "    cursor = db.cursor()\n",
    "    \n",
    "    # See if table exists: if true, drop and create new\n",
    "    cursor.execute(\"SELECT name FROM sqlite_master WHERE type='table' AND name='{}';\".format(table))  \n",
    "    rows = cursor.fetchall() \n",
    "    if rows: \n",
    "        cursor.execute(\"DROP TABLE {}\".format(table))\n",
    "        print \"table dropped:\", cursor.fetchall()\n",
    "    print 'Creating table', table\n",
    "    cursor.execute(sqlquery)    \n",
    "    db.commit()\n",
    "\n",
    "    # Transfer data from .csv to table\n",
    "    csv_to_table(csvfile, table, database)\n",
    "    print 'final call:', cursor.fetchall()\n",
    "    db.close()\n",
    "\n",
    "#csv_to_table(CSVFILE, TABLE, DBFILE)"
   ]
  },
  {
   "cell_type": "code",
   "execution_count": 42,
   "metadata": {
    "collapsed": false,
    "nbpresent": {
     "id": "a6eec62b-8df3-4877-915b-180a9094da6d"
    },
    "slideshow": {
     "slide_type": "skip"
    }
   },
   "outputs": [
    {
     "name": "stdout",
     "output_type": "stream",
     "text": [
      "table dropped: []\n",
      "Creating table nodes\n",
      "csv file header:  (u'id', u'lat', u'lon', u'user', u'uid', u'version', u'changeset', u'timestamp')\n",
      "table columns:  ('id', 'lat', 'lon', 'user', 'uid', 'version', 'changeset', 'timestamp')\n",
      "final call: []\n",
      "table dropped: []\n",
      "Creating table nodes_tags\n",
      "csv file header:  (u'id', u'key', u'value', u'type')\n",
      "table columns:  ('id', 'key', 'value', 'type')\n",
      "final call: []\n",
      "table dropped: []\n",
      "Creating table ways\n",
      "csv file header:  (u'id', u'user', u'uid', u'version', u'changeset', u'timestamp')\n",
      "table columns:  ('id', 'user', 'uid', 'version', 'changeset', 'timestamp')\n",
      "final call: []\n",
      "table dropped: []\n",
      "Creating table ways_nodes\n",
      "csv file header:  (u'id', u'node_id', u'position')\n",
      "table columns:  ('id', 'node_id', 'position')\n",
      "final call: []\n",
      "table dropped: []\n",
      "Creating table ways_tags\n",
      "csv file header:  (u'id', u'key', u'value', u'type')\n",
      "table columns:  ('id', 'key', 'value', 'type')\n",
      "final call: []\n"
     ]
    }
   ],
   "source": [
    "# Create database tables.\n",
    "\n",
    "# DBFILE = \"SofHawaii\" \n",
    "CSVFILES = ['nodes.csv', 'nodes_tags.csv', 'ways.csv', 'ways_nodes.csv', 'ways_tags.csv']\n",
    "DBTABLES = ['nodes', 'nodes_tags', 'ways', 'ways_nodes', 'ways_tags']\n",
    "QUERY = QUERY\n",
    "\n",
    "for n, csvfile in enumerate(CSVFILES): \n",
    "    table = DBTABLES[n]\n",
    "    csv_to_sql(csvfile, table, DBFILE, QUERY[table])"
   ]
  },
  {
   "cell_type": "markdown",
   "metadata": {
    "nbpresent": {
     "id": "d9101168-cb51-4634-a6ea-cfdee9d0a57c"
    },
    "slideshow": {
     "slide_type": "notes"
    }
   },
   "source": [
    "## Basic EDA \n",
    "Study the top 5 'node' contributors to the dataset. "
   ]
  },
  {
   "cell_type": "code",
   "execution_count": 43,
   "metadata": {
    "collapsed": true,
    "nbpresent": {
     "id": "e4d14607-abf0-4dd0-8077-433e7b795be7"
    },
    "slideshow": {
     "slide_type": "notes"
    }
   },
   "outputs": [],
   "source": [
    "# \n",
    "\n",
    "def do_sql(database): \n",
    "    db = sqlite3.connect(database)\n",
    "    c = db.cursor()\n",
    "\n",
    "    c.execute(query) \n",
    "    rows = c.fetchall() \n",
    "#     for r in rows: \n",
    "#         print r\n",
    "    db.close()\n",
    "    return rows"
   ]
  },
  {
   "cell_type": "markdown",
   "metadata": {
    "nbpresent": {
     "id": "b600d0b0-04eb-4ac1-959f-cc555a5a829b"
    }
   },
   "source": [
    "These are the top 5 contributors: "
   ]
  },
  {
   "cell_type": "code",
   "execution_count": 44,
   "metadata": {
    "collapsed": false,
    "nbpresent": {
     "id": "b71d6fd1-a7d7-450f-ade5-02e6f91d7fad"
    },
    "slideshow": {
     "slide_type": "skip"
    }
   },
   "outputs": [
    {
     "name": "stdout",
     "output_type": "stream",
     "text": [
      "(u'Tom_Holland', 311519)\n",
      "(u'bdiscoe', 114411)\n",
      "(u'ksamples', 100433)\n",
      "(u'ikiya', 26288)\n",
      "(u'Chris Lawrence', 18810)\n"
     ]
    }
   ],
   "source": [
    "query = '''\n",
    "SELECT user, count(*) as num\n",
    "FROM nodes \n",
    "GROUP BY user\n",
    "ORDER BY num DESC\n",
    "limit 5;\n",
    "'''\n",
    "output = do_sql(DBFILE)\n",
    "for r in output: \n",
    "    print r"
   ]
  },
  {
   "cell_type": "code",
   "execution_count": 45,
   "metadata": {
    "collapsed": true,
    "nbpresent": {
     "id": "6f34cb23-617e-49a1-abe5-84ebcec41041"
    },
    "slideshow": {
     "slide_type": "skip"
    }
   },
   "outputs": [],
   "source": [
    "top5_users = [a[0] for a in output]"
   ]
  },
  {
   "cell_type": "markdown",
   "metadata": {
    "nbpresent": {
     "id": "37b8692f-6f95-4611-bae7-7cd4b65b46f1"
    },
    "slideshow": {
     "slide_type": "notes"
    }
   },
   "source": [
    "Exploratory questions: \n",
    "- what features have they mapped? \n",
    "- how are the locations distributed on the map? "
   ]
  },
  {
   "cell_type": "code",
   "execution_count": 58,
   "metadata": {
    "collapsed": false,
    "nbpresent": {
     "id": "9953d2e2-cf0c-440a-a9c2-c251196cca3b"
    },
    "scrolled": true,
    "slideshow": {
     "slide_type": "skip"
    }
   },
   "outputs": [
    {
     "name": "stdout",
     "output_type": "stream",
     "text": [
      "(u'power', u'pole', u'regular', 4360423644, 1102)\n",
      "(u'highway', u'turning_circle', u'regular', 4394324249, 870)\n",
      "(u'name', u'Two Step Beach', u'regular', 4393822339, 702)\n",
      "(u'natural', u'tree', u'regular', 4350509140, 460)\n",
      "(u'ele', u'28', u'regular', 4352202674, 423)\n",
      "(u'place', u'locality', u'regular', 4393822339, 229)\n",
      "(u'state', u'HI', u'addr', 4352202674, 223)\n",
      "(u'feature_id', u'1965020', u'gnis', 4352202674, 222)\n",
      "(u'county_name', u'Hawaii', u'gnis', 4352202674, 219)\n",
      "(u'created', u'02/06/1981', u'gnis', 2409055920, 196)\n",
      "(u'feature_type', u'Bay', u'gnis', 2409055920, 196)\n",
      "(u'import_uuid', u'57871b70-0100-4405-bb30-88b2e001a944', u'gnis', 4352202674, 181)\n",
      "(u'is_in', u'Hawaii,Hawaii,Hawaii,HI,USA', u'regular', 2039216241, 165)\n",
      "(u'Class', u'Populated Place', u'gnis', 2039216241, 158)\n",
      "(u'County', u'Hawaii', u'gnis', 2039216241, 158)\n",
      "(u'County_num', u'001', u'gnis', 2039216241, 158)\n",
      "(u'ST_alpha', u'HI', u'gnis', 2039216241, 158)\n",
      "(u'ST_num', u'15', u'gnis', 2039216241, 158)\n",
      "(u'id', u'1852577', u'gnis', 2039216241, 158)\n",
      "(u'barrier', u'gate', u'regular', 4398466564, 147)\n"
     ]
    }
   ],
   "source": [
    "# Find the top 20 osm element tags for each user\n",
    "query = ''' \n",
    "SELECT nodes_tags.key, nodes_tags.value, nodes_tags.type, nodes.id, COUNT(*) AS num\n",
    "FROM nodes_tags, nodes\n",
    "WHERE nodes.id = nodes_tags.id\n",
    "AND user = 'Tom_Holland'\n",
    "GROUP BY nodes_tags.key\n",
    "ORDER BY num DESC \n",
    "LIMIT 20;\n",
    "'''\n",
    "output = do_sql(DBFILE)\n",
    "for r in output: \n",
    "    print r"
   ]
  },
  {
   "cell_type": "code",
   "execution_count": 50,
   "metadata": {
    "collapsed": false,
    "nbpresent": {
     "id": "dc7207db-c86f-4aed-bbfc-55169a6cb8bf"
    },
    "slideshow": {
     "slide_type": "skip"
    }
   },
   "outputs": [
    {
     "name": "stdout",
     "output_type": "stream",
     "text": [
      "(u'highway', u'turning_circle', 3998481317, u'regular', 411)\n",
      "(u'power', u'pole', 3993959704, u'regular', 139)\n",
      "(u'barrier', u'gate', 3994059217, u'regular', 45)\n",
      "(u'name', u'Uncle Robert\\u02bbs', 2906628101, u'regular', 37)\n",
      "(u'source', u'wind', 2967156335, u'generator', 29)\n",
      "(u'ele', u'438', 368391640, u'regular', 22)\n",
      "(u'place', u'farm', 2399899987, u'regular', 22)\n",
      "(u'is_in', u'USA, Hawaii', 1635717703, u'regular', 21)\n",
      "(u'import_uuid', u'57871b70-0100-4405-bb30-88b2e001a944', 367803676, u'gnis', 20)\n",
      "(u'Class', u'Populated Place', 150921304, u'gnis', 19)\n",
      "(u'County', u'Hawaii', 150921304, u'gnis', 19)\n",
      "(u'County_num', u'001', 150921304, u'gnis', 19)\n",
      "(u'ST_alpha', u'HI', 150921304, u'gnis', 19)\n",
      "(u'ST_num', u'15', 150921304, u'gnis', 19)\n",
      "(u'id', u'361505', 150921304, u'gnis', 19)\n",
      "(u'amenity', u'parking', 2933892351, u'regular', 15)\n",
      "(u'state', u'Hawaii', 1635717703, u'is_in', 4)\n",
      "(u'ford', u'yes', 2398141212, u'regular', 3)\n",
      "(u'tourism', u'attraction', 2065645543, u'regular', 3)\n",
      "(u'CLASSFP', u'U1', 1635717703, u'tiger', 2)\n"
     ]
    }
   ],
   "source": [
    "query = ''' \n",
    "SELECT nodes_tags.key, nodes_tags.value, nodes.id, nodes_tags.type, COUNT(*) AS num\n",
    "FROM nodes_tags, nodes\n",
    "WHERE nodes.id = nodes_tags.id\n",
    "AND user = 'bdiscoe'\n",
    "GROUP BY key\n",
    "ORDER BY num DESC \n",
    "LIMIT 20;\n",
    "'''\n",
    "output = do_sql(DBFILE)\n",
    "for r in output: \n",
    "    print r"
   ]
  },
  {
   "cell_type": "code",
   "execution_count": 51,
   "metadata": {
    "collapsed": false,
    "nbpresent": {
     "id": "8af1b065-e778-4022-baaa-1393aebb9411"
    },
    "slideshow": {
     "slide_type": "skip"
    }
   },
   "outputs": [
    {
     "name": "stdout",
     "output_type": "stream",
     "text": [
      "(u'highway', u'turning_circle', 2034125148, u'regular', 167)\n",
      "(u'source', u'Bing', 2034125148, u'regular', 162)\n",
      "(u'barrier', u'lift_gate', 1690079522, u'regular', 1)\n"
     ]
    }
   ],
   "source": [
    "query = ''' \n",
    "SELECT nodes_tags.key, nodes_tags.value, nodes.id, nodes_tags.type, COUNT(*) AS num\n",
    "FROM nodes_tags, nodes\n",
    "WHERE nodes.id = nodes_tags.id\n",
    "AND user = 'ikiya'\n",
    "GROUP BY key\n",
    "ORDER BY num DESC \n",
    "LIMIT 20;\n",
    "'''\n",
    "output = do_sql(DBFILE)\n",
    "for r in output: \n",
    "    print r"
   ]
  },
  {
   "cell_type": "code",
   "execution_count": 55,
   "metadata": {
    "collapsed": false,
    "nbpresent": {
     "id": "507c61fe-ae4f-4872-accb-694b47686e6a"
    },
    "slideshow": {
     "slide_type": "skip"
    }
   },
   "outputs": [
    {
     "name": "stdout",
     "output_type": "stream",
     "text": [
      "(u'highway', u'turning_circle', 2034125148, u'regular', 167)\n",
      "(u'source', u'Bing', 2034125148, u'regular', 162)\n",
      "(u'barrier', u'lift_gate', 1690079522, u'regular', 1)\n"
     ]
    }
   ],
   "source": [
    "query = ''' \n",
    "SELECT nodes_tags.key, nodes_tags.value, nodes.id, nodes_tags.type, COUNT(*) AS num\n",
    "FROM nodes_tags, nodes\n",
    "WHERE nodes.id = nodes_tags.id\n",
    "AND user = 'ikiya'\n",
    "GROUP BY key\n",
    "ORDER BY num DESC \n",
    "LIMIT 20;\n",
    "'''\n",
    "output = do_sql(DBFILE)\n",
    "for r in output: \n",
    "    print r"
   ]
  },
  {
   "cell_type": "code",
   "execution_count": 57,
   "metadata": {
    "collapsed": false,
    "nbpresent": {
     "id": "2aa5b0e8-0704-47c1-8f4a-0f8793f14c73"
    },
    "slideshow": {
     "slide_type": "skip"
    }
   },
   "outputs": [],
   "source": [
    "query = ''' \n",
    "SELECT nodes_tags.key, nodes_tags.value, nodes.id, nodes_tags.type, COUNT(*) AS num\n",
    "FROM nodes_tags, nodes\n",
    "WHERE nodes.id = nodes_tags.id\n",
    "AND user = 'Chris_Lawrence'\n",
    "GROUP BY key\n",
    "ORDER BY num DESC \n",
    "LIMIT 20;\n",
    "'''\n",
    "output = do_sql(DBFILE)\n",
    "for r in output: \n",
    "    print r"
   ]
  },
  {
   "cell_type": "code",
   "execution_count": 53,
   "metadata": {
    "collapsed": false,
    "nbpresent": {
     "id": "e2d59708-d9b7-4524-ac05-a78ca81283c3"
    },
    "slideshow": {
     "slide_type": "skip"
    }
   },
   "outputs": [
    {
     "name": "stdout",
     "output_type": "stream",
     "text": [
      "(384258507, 1)\n",
      "(384258508, 1)\n",
      "(384258521, 1)\n",
      "(384258522, 1)\n",
      "(384258523, 1)\n",
      "(384258524, 1)\n",
      "(384258525, 1)\n",
      "(384258528, 1)\n",
      "(384258529, 1)\n",
      "(384258530, 1)\n",
      "(384258531, 1)\n",
      "(384258532, 1)\n",
      "(384258533, 1)\n",
      "(384258534, 1)\n",
      "(384258535, 1)\n",
      "(384258536, 1)\n",
      "(384258537, 1)\n",
      "(384258538, 1)\n",
      "(384258539, 1)\n",
      "(384258540, 1)\n"
     ]
    }
   ],
   "source": [
    "query = ''' \n",
    "SELECT id, COUNT(*) AS num\n",
    "FROM nodes\n",
    "WHERE user = 'Chris Lawrence'\n",
    "GROUP BY id\n",
    "ORDER BY num DESC \n",
    "LIMIT 20;\n",
    "'''\n",
    "output = do_sql(DBFILE)\n",
    "for r in output: \n",
    "    print r"
   ]
  },
  {
   "cell_type": "markdown",
   "metadata": {
    "nbpresent": {
     "id": "d1a52d2f-0b60-4074-9e42-1f37ccf5da37"
    },
    "slideshow": {
     "slide_type": "notes"
    }
   },
   "source": [
    "A simple tally and observation of the most frequently tagged node attributes for the top 5 players show different behavior.  With my limited knowledge of OSM: the top contributor makes frequent use of gnis data, while the second likely makes use of gps.  The third is most likey from a Nokia device with GPS.  The last two have no node tag information; it may be a device-automated entry or an outdated contribution.  "
   ]
  },
  {
   "cell_type": "code",
   "execution_count": 59,
   "metadata": {
    "collapsed": true,
    "nbpresent": {
     "id": "2bdc0c88-9884-40eb-84f9-96dbb59bda0a"
    },
    "slideshow": {
     "slide_type": "skip"
    }
   },
   "outputs": [],
   "source": [
    "# Retrieve all osm element tags for user\n",
    "query = ''' \n",
    "SELECT nodes_tags.key, nodes_tags.value, nodes_tags.type, nodes.id, COUNT(*) AS num\n",
    "FROM nodes_tags, nodes\n",
    "WHERE nodes.id = nodes_tags.id\n",
    "AND user = 'Tom_Holland'\n",
    "GROUP BY nodes_tags.key\n",
    "ORDER BY num DESC \n",
    ";\n",
    "'''\n",
    "output = do_sql(DBFILE) "
   ]
  },
  {
   "cell_type": "code",
   "execution_count": 65,
   "metadata": {
    "collapsed": false,
    "nbpresent": {
     "id": "1682109f-2056-47ce-99e3-333cae470192"
    },
    "slideshow": {
     "slide_type": "skip"
    }
   },
   "outputs": [
    {
     "name": "stdout",
     "output_type": "stream",
     "text": [
      "ommited  (0, set([]))\n"
     ]
    }
   ],
   "source": [
    "# use featuresinHawaii2 obtained above, split features into list of key, value pairs\n",
    "FH = []\n",
    "for a1 in featuresinHawaii2.items(): \n",
    "    try: FH.append(a1[0].split('=')) \n",
    "    except: print 'ommited ', a1\n",
    "        "
   ]
  },
  {
   "cell_type": "code",
   "execution_count": 74,
   "metadata": {
    "collapsed": false,
    "nbpresent": {
     "id": "9348d61b-1baf-4454-8d36-387b11edaae6"
    },
    "slideshow": {
     "slide_type": "skip"
    }
   },
   "outputs": [
    {
     "name": "stdout",
     "output_type": "stream",
     "text": [
      "(u'power', u'pole', u'regular', 4360423644, 1102)\n",
      "(u'natural', u'tree', u'regular', 4350509140, 460)\n",
      "(u'place', u'locality', u'regular', 4393822339, 229)\n",
      "(u'barrier', u'gate', u'regular', 4398466564, 147)\n",
      "(u'tourism', u'information', u'regular', 4392870883, 66)\n",
      "(u'leisure', u'slipway', u'regular', 4393822642, 48)\n",
      "(u'sport', u'swimming', u'regular', 2560671485, 16)\n",
      "(u'landuse', u'military', u'regular', 2157554429, 11)\n",
      "(u'waterway', u'waterfall', u'regular', 2268400428, 9)\n",
      "(u'historic', u'monument', u'regular', 2471874267, 3)\n",
      "(u'emergency', u'defibrillator', u'regular', 2482094584, 1)\n"
     ]
    }
   ],
   "source": [
    "# map features tagged by user 'Tom_Holland'\n",
    "\n",
    "for a1 in output: \n",
    "    for b1 in FH: \n",
    "        if a1[0] == b1[0] and a1[1] == b1[1]: \n",
    "            print a1 \n",
    "            \n",
    "    "
   ]
  },
  {
   "cell_type": "code",
   "execution_count": 75,
   "metadata": {
    "collapsed": true,
    "nbpresent": {
     "id": "0e7175cf-a896-4177-9d59-205beff529db"
    },
    "slideshow": {
     "slide_type": "skip"
    }
   },
   "outputs": [],
   "source": [
    "# Retrieve all osm element tags for user\n",
    "query = ''' \n",
    "SELECT nodes_tags.key, nodes_tags.value, nodes_tags.type, nodes.id, COUNT(*) AS num\n",
    "FROM nodes_tags, nodes\n",
    "WHERE nodes.id = nodes_tags.id\n",
    "AND user = 'bdiscoe'\n",
    "GROUP BY nodes_tags.key\n",
    "ORDER BY num DESC \n",
    ";\n",
    "'''\n",
    "output = do_sql(DBFILE) "
   ]
  },
  {
   "cell_type": "code",
   "execution_count": 76,
   "metadata": {
    "collapsed": false,
    "nbpresent": {
     "id": "454e6d91-103f-4d92-bbec-de0606098258"
    },
    "slideshow": {
     "slide_type": "skip"
    }
   },
   "outputs": [
    {
     "name": "stdout",
     "output_type": "stream",
     "text": [
      "(u'power', u'pole', u'regular', 3993959704, 139)\n",
      "(u'barrier', u'gate', u'regular', 3994059217, 45)\n",
      "(u'place', u'farm', u'regular', 2399899987, 22)\n",
      "(u'amenity', u'parking', u'regular', 2933892351, 15)\n",
      "(u'tourism', u'attraction', u'regular', 2065645543, 3)\n",
      "(u'aeroway', u'aerodrome', u'regular', 368391640, 1)\n"
     ]
    }
   ],
   "source": [
    "# map features tagged by user 'bdiscoe'\n",
    "\n",
    "for a1 in output: \n",
    "    for b1 in FH: \n",
    "        if a1[0] == b1[0] and a1[1] == b1[1]: \n",
    "            print a1 \n",
    "            \n",
    "    "
   ]
  },
  {
   "cell_type": "markdown",
   "metadata": {
    "nbpresent": {
     "id": "766809d5-9af3-4e7a-8291-753036e599c5"
    },
    "slideshow": {
     "slide_type": "notes"
    }
   },
   "source": [
    "Simple observations of data obtained by 'Tom_Holland' and 'bdiscoe' provide insight into who they are.  'Tom_Holland' is likely military personnel residing in Hawaii, while 'bdiscoe' was likely to be a tourist visiting the island.  "
   ]
  },
  {
   "cell_type": "markdown",
   "metadata": {
    "nbpresent": {
     "id": "c73726bc-9370-4c0e-938a-3abdca7f1e13"
    },
    "slideshow": {
     "slide_type": "notes"
    }
   },
   "source": [
    "Further explorations into contributor behavior can provide locations of tags using geopy.  "
   ]
  },
  {
   "cell_type": "code",
   "execution_count": 86,
   "metadata": {
    "collapsed": true,
    "nbpresent": {
     "id": "2d884806-eb1f-4d10-8178-a149788a0b63"
    },
    "slideshow": {
     "slide_type": "skip"
    }
   },
   "outputs": [],
   "source": [
    "# Retrieve all osm element tags for user\n",
    "query = ''' \n",
    "SELECT nodes_tags.key, nodes_tags.value, nodes.lat, nodes.lon, nodes.timestamp, COUNT(*) AS num\n",
    "FROM nodes_tags, nodes\n",
    "WHERE nodes.id = nodes_tags.id\n",
    "AND user = 'Tom_Holland'\n",
    "GROUP BY nodes_tags.key\n",
    "ORDER BY num DESC \n",
    ";\n",
    "'''\n",
    "output = do_sql(DBFILE) "
   ]
  },
  {
   "cell_type": "code",
   "execution_count": 90,
   "metadata": {
    "collapsed": false,
    "nbpresent": {
     "id": "0e429663-fd53-4736-a6c6-22cd33206da1"
    },
    "slideshow": {
     "slide_type": "notes"
    }
   },
   "outputs": [
    {
     "name": "stdout",
     "output_type": "stream",
     "text": [
      "Alulike Trail, Waikii, Kohala, Hawaii, United States of America 2016-08-21T18:17:59Z\n",
      "Lower Napo'opo'o Road, Honaunau-Napoopoo CDP, Kau, Hawaii, 96704, United States of America 2016-09-10T03:24:22Z\n",
      "Keoneele Cove, Honaunau Beach Road, Honaunau-Napoopoo CDP, Kau, Hawaii, 96704, United States of America 2016-09-09T18:12:20Z\n",
      "98, Laimana Street, Pu‘u‘eo, Hilo CDP, North Hilo, Hawaii, 96720, United States of America 2016-08-15T04:01:55Z\n",
      "College Hall, 200, West Kawili Street, Waiākea, Hilo CDP, South Hilo, Hawaii, 96720, United States of America 2016-08-16T07:30:31Z\n",
      "Keoneele Cove, Honaunau Beach Road, Honaunau-Napoopoo CDP, Kau, Hawaii, 96704, United States of America 2016-09-09T18:12:20Z\n",
      "College Hall, 200, West Kawili Street, Waiākea, Hilo CDP, South Hilo, Hawaii, 96720, United States of America 2016-08-16T07:30:31Z\n",
      "College Hall, 200, West Kawili Street, Waiākea, Hilo CDP, South Hilo, Hawaii, 96720, United States of America 2016-08-16T07:30:31Z\n",
      "College Hall, 200, West Kawili Street, Waiākea, Hilo CDP, South Hilo, Hawaii, 96720, United States of America 2016-08-16T07:30:31Z\n",
      "Liliuokalani Gardens, Lihiwai Street, Mokaoku, Hilo CDP, South Hilo, Hawaii, 96720, United States of America 2013-08-06T16:47:04Z\n",
      "Liliuokalani Gardens, Lihiwai Street, Mokaoku, Hilo CDP, South Hilo, Hawaii, 96720, United States of America 2013-08-06T16:47:04Z\n",
      "College Hall, 200, West Kawili Street, Waiākea, Hilo CDP, South Hilo, Hawaii, 96720, United States of America 2016-08-16T07:30:31Z\n",
      "Waimaka O Pele Road, Kopua Farm Lots, Fern Acres, West Puna, Hawaii, 96771, United States of America 2012-11-29T00:32:45Z\n",
      "Waimaka O Pele Road, Kopua Farm Lots, Fern Acres, West Puna, Hawaii, 96771, United States of America 2012-11-29T00:32:45Z\n",
      "Waimaka O Pele Road, Kopua Farm Lots, Fern Acres, West Puna, Hawaii, 96771, United States of America 2012-11-29T00:32:45Z\n",
      "Waimaka O Pele Road, Kopua Farm Lots, Fern Acres, West Puna, Hawaii, 96771, United States of America 2012-11-29T00:32:45Z\n",
      "Waimaka O Pele Road, Kopua Farm Lots, Fern Acres, West Puna, Hawaii, 96771, United States of America 2012-11-29T00:32:45Z\n",
      "Waimaka O Pele Road, Kopua Farm Lots, Fern Acres, West Puna, Hawaii, 96771, United States of America 2012-11-29T00:32:45Z\n",
      "Waimaka O Pele Road, Kopua Farm Lots, Fern Acres, West Puna, Hawaii, 96771, United States of America 2012-11-29T00:32:45Z\n",
      "Kane Place, Discovery Harbour, Waiohinu, Kau, Hawaii, 96704, United States of America 2016-09-13T07:04:52Z\n"
     ]
    }
   ],
   "source": [
    "for a1 in output[:20]: \n",
    "    print unicode(geolocator.reverse(\"{},{}\".format(a1[2], a1[3]))), a1[4]\n",
    "    "
   ]
  },
  {
   "cell_type": "markdown",
   "metadata": {
    "nbpresent": {
     "id": "49b0a587-0a54-4d32-bc0e-8de83f3b2a30"
    },
    "slideshow": {
     "slide_type": "notes"
    }
   },
   "source": [
    "The results above show that the tags obtained by 'Tom_Holland' were obtained over several years, and are all located in the Island of Hawai'i.  "
   ]
  },
  {
   "cell_type": "markdown",
   "metadata": {
    "nbpresent": {
     "id": "813e801a-2aac-4349-923d-2902bf6bb286"
    },
    "slideshow": {
     "slide_type": "notes"
    }
   },
   "source": [
    "\n",
    "## Questions \n",
    "\n",
    "\n",
    "\n",
    "### Further questions about Hawaii \n",
    "\n",
    "\n",
    "Submission document includes one or more additional suggestions for improving and analyzing the data.  \n",
    "Many sites in Hawai'i have official names but more frequently used colloquial terms.  A separate feature tag designation for a single official name and (multiple) unofficial names might clarify the nomenclature.  It would still be up to the community to observe and enforce such distinctions, replete with the correct lexical represetation. ISO 639 is the designated Hawaiian character set.  "
   ]
  },
  {
   "cell_type": "markdown",
   "metadata": {
    "nbpresent": {
     "id": "cba17835-96eb-4b03-918d-8fc4904a35ef"
    },
    "slideshow": {
     "slide_type": "notes"
    }
   },
   "source": [
    "The following references can provide more resources to aid in Hawaiian nomenclature:  \n",
    "\n",
    "- USGS gnis search: http://geonames.usgs.gov/apex/f?p=136:1:0::NO::P1_COUNTY%2CP1_COUNTY_ALONG:n%2C (server down)\n",
    "- Hawaii State Highways: https://en.wikipedia.org/wiki/List_of_Hawaii_state_highways \n",
    "- Hawaiian landmarks http://ulukau.org/elib/cgi-bin/library?e=d-0pepn-000Sec--11haw-50-20-frameset-book--1-010escapewin&a=d&d=D0.2&toc=0\n",
    "- [S.939 - Hawaiian National Park Language Correction Act of 2000](https://www.congress.gov/106/bills/s939/BILLS-106s939es.pdf)\n",
    "- [Documentation for ISO 639 identifier: haw](http://www-01.sil.org/iso639-3/documentation.asp?id=haw)\n",
    "- [Pūnana Leo](https://en.wikipedia.org/wiki/P%C5%ABnana_Leo)\n",
    "- [Hawaiian Language wikipedia](https://en.wikipedia.org/wiki/Hawaiian_language)\n",
    "\n",
    "Hawaii OSM project wiki: \n",
    "- http://wiki.openstreetmap.org/wiki/Hawaii"
   ]
  }
 ],
 "metadata": {
  "anaconda-cloud": {},
  "celltoolbar": "Slideshow",
  "kernelspec": {
   "display_name": "Python [conda env:ipyk3]",
   "language": "python",
   "name": "conda-env-ipyk3-py"
  },
  "language_info": {
   "codemirror_mode": {
    "name": "ipython",
    "version": 3
   },
   "file_extension": ".py",
   "mimetype": "text/x-python",
   "name": "python",
   "nbconvert_exporter": "python",
   "pygments_lexer": "ipython3",
   "version": "3.5.2"
  }
 },
 "nbformat": 4,
 "nbformat_minor": 0
}
