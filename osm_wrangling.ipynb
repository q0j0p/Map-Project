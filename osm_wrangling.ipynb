{
 "cells": [
  {
   "cell_type": "code",
   "execution_count": 2,
   "metadata": {
    "collapsed": false
   },
   "outputs": [],
   "source": [
    "from map_project import *"
   ]
  },
  {
   "cell_type": "markdown",
   "metadata": {},
   "source": [
    "# Wrangling OpenStreetMap Data \n",
    "\n",
    "\n",
    "## Preliminaries \n",
    "\n",
    "\n",
    "**Topic** \n",
    "The chosen subject matter is the State of Hawai'i. The dataset of the state of Hawai'i (excluding Kauaii) was 158 MB. For efficient auditing (and debugging), smaller samples were used (Island of Hawai'i dataset-- 67.9 MB).   \n",
    "\n",
    "## Data acquisition \n",
    "\n",
    "**Data source:** \n",
    "The assignment provided data sources that are part of the OpenStreetMap project.  Custom extracts of raw OSM (XML) data were obtained from [mapzen](https://mapzen.com).  \n",
    "\n",
    "### General description of data: \n",
    "\n",
    "\"[OpenStreetMap](https://www.openstreetmap.org/about) is built by a community of mappers that contribute and maintain data about roads, trails, `cafés`, railway stations, and much more, all over the world.\"\n",
    "\n",
    "Since the OpenStreetMap is an open source project, human error is likely the main source of error-- namely, inconsistencies in data entry.  The [OSM XML wiki](http://wiki.openstreetmap.org/wiki/OSM_XML) provides documentation for the data.  \n",
    "\n",
    "The OSM XML provides the framework for `elements` that represent physical features on the map.  `Elements` consist of `nodes`, `ways`, and `relations` (http://wiki.openstreetmap.org/wiki/Elements).  Each instance of `elements` is provided in 'blocks'-- XML elements that enclose tags with key / value attributes.  Documentation describes ['certainties and uncertainties'](http://wiki.openstreetmap.org/wiki/OSM_XML#Certainties_and_Uncertainties) of a given dataset.  \n",
    "\n",
    "\n",
    "## Data wrangling  \n",
    "\n",
    "### Data audit \n",
    "\n",
    "Data quality is assessed to verify assumptions about the type, shape and value of the data.  Errors and outliers are identified, and missing values are accounted for.  Measures of validity, accuracy, completeness, consistency and uniformity describe the quality of data.  \n",
    "\n",
    "First, the osm elements in the data file was inspected: "
   ]
  },
  {
   "cell_type": "code",
   "execution_count": 3,
   "metadata": {
    "collapsed": false
   },
   "outputs": [],
   "source": [
    "tags = count_tags(OSMFILE)"
   ]
  },
  {
   "cell_type": "code",
   "execution_count": 4,
   "metadata": {
    "collapsed": false
   },
   "outputs": [
    {
     "name": "stdout",
     "output_type": "stream",
     "text": [
      "{'node': 765029, 'nd': 884680, 'bounds': 1, 'member': 4828, 'tag': 239102, 'osm': 1, 'way': 61483, 'relation': 982}\n"
     ]
    }
   ],
   "source": [
    "print tags"
   ]
  },
  {
   "cell_type": "markdown",
   "metadata": {},
   "source": [
    "**'node', 'nd', 'bounds', 'member', 'tag', 'osm', 'way', 'relation'** constitute the xml elements in the OSM dataset.  \n",
    "\n",
    "Of these, 'way', 'node', 'relation' are osm 'elements'-- the the basic components of OpenStreetMap's data model.  \n",
    "\n",
    "'osm' is the xml element that encloses the entire osm data structure in the the .osm file. \n",
    "\n",
    "'bounds' contains attributes that define the boundary coordinates of the map.\n",
    "\n",
    "'member' is an xml element under the osm element 'relation' (namely the 'multiplygon' relation) that is used to describe how thw 'way's in the 'relation' are related.  \n",
    "\n",
    "'tag's exist as children of the element trees, fleshing out the details of the element.  \n",
    "\n",
    "'nd's are tags under 'way's that reference the 'nodes' that make up the 'way's.  "
   ]
  },
  {
   "cell_type": "markdown",
   "metadata": {},
   "source": [
    "### Data Validity\n",
    "\n",
    "As shown, there are 765029 'node', 61483 'way', 982 'relation' element instances in the dataset.    There are no extraneous elements.  \n",
    "\n",
    "A validator will be used in the subequent sql database intake. \n",
    "\n",
    "#### Verification / validation scheme of the tags in the osm dataset\n",
    "The following aspects were interrogated: \n",
    "\n",
    "* osm: verify that there is only one.  \n",
    "* bounds: verify coordinates of bounds.  \n",
    "* member: are all 'members' 'ways'?  \n",
    "* nds: all all 'nd's 'nodes' in dataset?  \n",
    "* tags: what features are represented?  "
   ]
  },
  {
   "cell_type": "markdown",
   "metadata": {},
   "source": [
    "As seen already above, there is only one instance of 'osm' and 'bounds'.  The coordinates in 'bounds' is the following: "
   ]
  },
  {
   "cell_type": "code",
   "execution_count": 5,
   "metadata": {
    "collapsed": false
   },
   "outputs": [
    {
     "name": "stdout",
     "output_type": "stream",
     "text": [
      "{'minlat': '18.6982854', 'maxlon': '-154.6325683', 'minlon': '-158.4338378', 'maxlat': '21.8411047'}\n"
     ]
    }
   ],
   "source": [
    "bounds = get_attrib('bounds')\n",
    "print bounds"
   ]
  },
  {
   "cell_type": "markdown",
   "metadata": {},
   "source": [
    "The coordinates can be verified using the `geolocator` module to perform a 'reverse-lookup': "
   ]
  },
  {
   "cell_type": "code",
   "execution_count": 6,
   "metadata": {
    "collapsed": false
   },
   "outputs": [
    {
     "name": "stdout",
     "output_type": "stream",
     "text": [
      "96816\n"
     ]
    }
   ],
   "source": [
    ">>> geolocator = Nominatim()\n",
    ">>> minloc = geolocator.reverse(\"{},{}\".format(bounds['minlat'], bounds['minlon']))\n",
    ">>> maxloc = geolocator.reverse(\"{},{}\".format(bounds['maxlat'], bounds['maxlon']))\n",
    ">>> print maxloc"
   ]
  },
  {
   "cell_type": "markdown",
   "metadata": {},
   "source": [
    "96816 is the zipcode for Honolulu. Coordinates are also easily verified in goole maps.  "
   ]
  },
  {
   "cell_type": "markdown",
   "metadata": {},
   "source": [
    "Check membership of 'relation' elements: \n",
    "Obtain all member ids in 'relation' and see if all of them match with ids in 'way'.  "
   ]
  },
  {
   "cell_type": "code",
   "execution_count": 7,
   "metadata": {
    "collapsed": false
   },
   "outputs": [],
   "source": [
    ">>> relation_member_refs = get_allof_childattrib('relation', 'member', 'ref')\n",
    ">>> way_ids = get_allof_attrib('way','id')"
   ]
  },
  {
   "cell_type": "code",
   "execution_count": 8,
   "metadata": {
    "collapsed": false
   },
   "outputs": [
    {
     "name": "stdout",
     "output_type": "stream",
     "text": [
      "not_in: 317, is_in: 3108\n"
     ]
    }
   ],
   "source": [
    ">>> what_in_what(relation_member_refs, way_ids)"
   ]
  },
  {
   "cell_type": "markdown",
   "metadata": {},
   "source": [
    "317 of member ids are not 'ways'.  'id's in 'relation' can also be nodes.  "
   ]
  },
  {
   "cell_type": "code",
   "execution_count": 9,
   "metadata": {
    "collapsed": true
   },
   "outputs": [],
   "source": [
    ">>> node_ids = get_allof_attrib('node', 'id')"
   ]
  },
  {
   "cell_type": "code",
   "execution_count": 10,
   "metadata": {
    "collapsed": false
   },
   "outputs": [
    {
     "name": "stdout",
     "output_type": "stream",
     "text": [
      "not_in: 11, is_in: 3414\n"
     ]
    }
   ],
   "source": [
    ">>> what_in_what(relation_member_refs, way_ids.union(node_ids))"
   ]
  },
  {
   "cell_type": "markdown",
   "metadata": {},
   "source": [
    "All but 11 elements of 'relation' is in the union of 'node' and 'way'.  What else can it be?  "
   ]
  },
  {
   "cell_type": "code",
   "execution_count": 12,
   "metadata": {
    "collapsed": false
   },
   "outputs": [
    {
     "name": "stdout",
     "output_type": "stream",
     "text": [
      "not_in: 0, is_in: 3425\n"
     ]
    }
   ],
   "source": [
    ">>> relation_ids = get_allof_attrib('relation', 'id')\n",
    "what_in_what(relation_member_refs, way_ids.union(node_ids).union(relation_ids))"
   ]
  },
  {
   "cell_type": "markdown",
   "metadata": {},
   "source": [
    "Apparently, 11 of the members of 'relation' are themselves are 'relation's.  \n",
    "\n",
    "Verifying that all 'nd' ids in the 'way' elements are also instances of 'node's: "
   ]
  },
  {
   "cell_type": "code",
   "execution_count": 13,
   "metadata": {
    "collapsed": false
   },
   "outputs": [
    {
     "name": "stdout",
     "output_type": "stream",
     "text": [
      "not_in: 0, is_in: 759598\n"
     ]
    }
   ],
   "source": [
    ">>> way_nd_refs = get_allof_childattrib('way', 'nd', 'ref')\n",
    ">>> what_in_what(way_nd_refs, node_ids) "
   ]
  },
  {
   "cell_type": "markdown",
   "metadata": {},
   "source": [
    "#### Map features \n",
    "\n",
    "The tags on an .osm file is not easily translated into a human-readable entitiy.  OSM being a community project, there are no strict rules on how the physical features are tagged.  However, the tables in the wiki provide conventions: \n",
    "http://wiki.openstreetmap.org/wiki/Map_Features\n",
    "\n",
    "The tables were scraped to obtain a list of valid map features.  This can be used to make sense of what is on this map.  "
   ]
  },
  {
   "cell_type": "code",
   "execution_count": 44,
   "metadata": {
    "collapsed": false
   },
   "outputs": [],
   "source": [
    "from scrape_wiki import *"
   ]
  },
  {
   "cell_type": "code",
   "execution_count": 52,
   "metadata": {
    "collapsed": false
   },
   "outputs": [
    {
     "data": {
      "text/plain": [
       "<module 'scrape_wiki' from 'scrape_wiki.py'>"
      ]
     },
     "execution_count": 52,
     "metadata": {},
     "output_type": "execute_result"
    }
   ],
   "source": [
    "reload(scrape_wiki)"
   ]
  },
  {
   "cell_type": "code",
   "execution_count": null,
   "metadata": {
    "collapsed": true
   },
   "outputs": [],
   "source": []
  },
  {
   "cell_type": "code",
   "execution_count": 53,
   "metadata": {
    "collapsed": true
   },
   "outputs": [],
   "source": [
    "featuresinHawaii = process_attrib(OSMFILE, feature_tally, 'v')"
   ]
  },
  {
   "cell_type": "code",
   "execution_count": 54,
   "metadata": {
    "collapsed": false
   },
   "outputs": [
    {
     "data": {
      "text/plain": [
       "775"
      ]
     },
     "execution_count": 54,
     "metadata": {},
     "output_type": "execute_result"
    }
   ],
   "source": [
    "len(featuresinHawaii)"
   ]
  },
  {
   "cell_type": "markdown",
   "metadata": {},
   "source": [
    "The above dictionary (featuresinHawaii) provides a tally of all the features on this map.  "
   ]
  },
  {
   "cell_type": "markdown",
   "metadata": {},
   "source": [
    "### Data accuracy and uniformity \n",
    "\n",
    "Besides the issue of accuracy of the features described in the OSM elements, proper nomenclature of map objects (streets, buildings, etc.) in the Hawaiian language is another dimension to consider.  The Hawaiian language did not exist in written form (except in petroglyph symbols) until the 1820s; in its current use, the Hawaiian written language uses 12 letters of the english alphabet, plus a glottal stop (the 'okina).  The vowels can also have macrons (looks like a hypen on top) that affect its pronunciation.  In practice, many pidgin/creole and colloquial terms exist as it has fluidly absorbed  foreign words.  For these reasons, the Hawaiian language is difficult to formalize.  Nevertheless, the landmarks presumably follow formal nomenclature that gives proper respect to the culture of Hawai'i.  The text data can be assessed for accuracy by comparing with an outside source (an official lexicon), while 'allophones' can be consolidated to allow uniformity in names.  \n",
    "\n",
    "Textual input of street names can give rise to many variants.  The '`addr`' category in map features has specific sub-fields for respective components of a postal address (street name, number, postal code, etc.).  User omission, typos, miscategorization, abbreviations, etc. are common sources of variability.  \n",
    "\n",
    "The end word of street names was audited to account for variations.  A typical ending is expected ('street', 'avenue', etc.) for street names.  In Hawai'i, Hawaiian street names typically include the expected ending, but exceptions may exist.  "
   ]
  },
  {
   "cell_type": "code",
   "execution_count": 60,
   "metadata": {
    "collapsed": false
   },
   "outputs": [
    {
     "ename": "NameError",
     "evalue": "name 'OSMFILE' is not defined",
     "output_type": "error",
     "traceback": [
      "\u001b[0;31m---------------------------------------------------------------------------\u001b[0m",
      "\u001b[0;31mNameError\u001b[0m                                 Traceback (most recent call last)",
      "\u001b[0;32m<ipython-input-60-d0bde8485a68>\u001b[0m in \u001b[0;36m<module>\u001b[0;34m()\u001b[0m\n\u001b[0;32m----> 1\u001b[0;31m \u001b[0;32mimport\u001b[0m \u001b[0maudit_streetnames\u001b[0m\u001b[0;34m\u001b[0m\u001b[0m\n\u001b[0m",
      "\u001b[0;32m/Users/User1/Data Science/Project_Hawaii/Map_Project/audit_streetnames.py\u001b[0m in \u001b[0;36m<module>\u001b[0;34m()\u001b[0m\n\u001b[1;32m     98\u001b[0m     \u001b[0;32mreturn\u001b[0m \u001b[0mname\u001b[0m\u001b[0;34m\u001b[0m\u001b[0m\n\u001b[1;32m     99\u001b[0m \u001b[0;34m\u001b[0m\u001b[0m\n\u001b[0;32m--> 100\u001b[0;31m \u001b[0mst_types\u001b[0m \u001b[0;34m=\u001b[0m \u001b[0maudit\u001b[0m\u001b[0;34m(\u001b[0m\u001b[0mOSMFILE\u001b[0m\u001b[0;34m)\u001b[0m\u001b[0;34m\u001b[0m\u001b[0m\n\u001b[0m\u001b[1;32m    101\u001b[0m \u001b[0;31m# pprint.pprint(dict(st_types))\u001b[0m\u001b[0;34m\u001b[0m\u001b[0;34m\u001b[0m\u001b[0m\n\u001b[1;32m    102\u001b[0m \u001b[0;34m\u001b[0m\u001b[0m\n",
      "\u001b[0;31mNameError\u001b[0m: name 'OSMFILE' is not defined"
     ]
    }
   ],
   "source": [
    "import audit_streetnames"
   ]
  },
  {
   "cell_type": "code",
   "execution_count": 57,
   "metadata": {
    "collapsed": false
   },
   "outputs": [
    {
     "name": "stdout",
     "output_type": "stream",
     "text": [
      "Makefile                  \u001b[34m_templates\u001b[m\u001b[m                osm_project.py\r\n",
      "Project Notes-Copy1.ipynb audit_streetnames         sample.osm\r\n",
      "Project Notes.ipynb       conf.py                   schema\r\n",
      "README.md                 \u001b[34mdocs\u001b[m\u001b[m                      schema.py\r\n",
      "SofHexK.osm               index.rst                 schema.pyc\r\n",
      "Untitled.ipynb            make.bat                  scrape_wiki.py\r\n",
      "\u001b[34m_build\u001b[m\u001b[m                    map_project.py            scrape_wiki.pyc\r\n",
      "\u001b[34m_static\u001b[m\u001b[m                   map_project.pyc           setup.py\r\n"
     ]
    }
   ],
   "source": [
    "!ls"
   ]
  },
  {
   "cell_type": "code",
   "execution_count": null,
   "metadata": {
    "collapsed": true
   },
   "outputs": [],
   "source": []
  }
 ],
 "metadata": {
  "kernelspec": {
   "display_name": "Python [conda env:python2]",
   "language": "python",
   "name": "conda-env-python2-py"
  }
 },
 "nbformat": 4,
 "nbformat_minor": 1
}
