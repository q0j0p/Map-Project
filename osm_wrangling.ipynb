{
 "cells": [
  {
   "cell_type": "code",
   "execution_count": 79,
   "metadata": {
    "collapsed": false
   },
   "outputs": [],
   "source": [
    "OSMFILE = \"SofHexK.osm\"\n",
    "DBFILE = \"SofHawaii.db\""
   ]
  },
  {
   "cell_type": "markdown",
   "metadata": {},
   "source": [
    "# Wrangling OpenStreetMap Data \n",
    "\n",
    "\n",
    "## Preliminaries \n",
    "\n",
    "\n",
    "#### Topic\n",
    "\n",
    "The chosen subject matter is the State of Hawai'i. The dataset of the state of Hawai'i (excluding Kauaii) was 158 MB. For efficient auditing (and debugging), smaller samples were used (Island of Hawai'i dataset-- 67.9 MB).   \n",
    "\n",
    "## Data acquisition \n",
    "\n",
    "#### Data Source\n",
    "The assignment provided data sources that are part of the OpenStreetMap project.  Custom extracts of raw OSM (XML) data were obtained from [mapzen](https://mapzen.com).  \n",
    "\n",
    "### General description of data: \n",
    "\n",
    "\"[OpenStreetMap](https://www.openstreetmap.org/about) is built by a community of mappers that contribute and maintain data about roads, trails, `cafés`, railway stations, and much more, all over the world.\"\n",
    "\n",
    "Since the OpenStreetMap is an open source project, human error is likely the main source of error-- namely, inconsistencies in data entry.  The [OSM XML wiki](http://wiki.openstreetmap.org/wiki/OSM_XML) provides documentation for the data.  \n",
    "\n",
    "The OSM XML provides the framework for `elements` that represent physical features on the map.  `Elements` consist of `nodes`, `ways`, and `relations` (http://wiki.openstreetmap.org/wiki/Elements).  Each instance of `elements` is provided in 'blocks'-- XML elements that enclose tags with key / value attributes.  Documentation describes ['certainties and uncertainties'](http://wiki.openstreetmap.org/wiki/OSM_XML#Certainties_and_Uncertainties) of a given dataset.  \n",
    "\n",
    "\n",
    "## Data wrangling  \n",
    "\n",
    "### Data audit \n",
    "\n",
    "Data quality is assessed to verify assumptions about the type, shape and value of the data.  Errors and outliers are identified, and missing values are accounted for.  Measures of validity, accuracy, completeness, consistency and uniformity describe the quality of data.  \n",
    "\n",
    "First, the osm elements in the data file was inspected: "
   ]
  },
  {
   "cell_type": "code",
   "execution_count": 80,
   "metadata": {
    "collapsed": false
   },
   "outputs": [],
   "source": [
    "import map_project\n",
    "tags = map_project.count_tags(OSMFILE)"
   ]
  },
  {
   "cell_type": "code",
   "execution_count": 81,
   "metadata": {
    "collapsed": false
   },
   "outputs": [
    {
     "name": "stdout",
     "output_type": "stream",
     "text": [
      "{'node': 765029, 'nd': 884680, 'bounds': 1, 'member': 4828, 'tag': 239102, 'osm': 1, 'way': 61483, 'relation': 982}\n"
     ]
    }
   ],
   "source": [
    "print tags"
   ]
  },
  {
   "cell_type": "markdown",
   "metadata": {},
   "source": [
    "**'node', 'nd', 'bounds', 'member', 'tag', 'osm', 'way', 'relation'** constitute the xml elements in the OSM dataset.  \n",
    "\n",
    "Of these, 'way', 'node', 'relation' are osm 'elements'-- the the basic components of OpenStreetMap's data model.  \n",
    "\n",
    "'osm' is the xml element that encloses the entire osm data structure in the the .osm file. \n",
    "\n",
    "'bounds' contains attributes that define the boundary coordinates of the map.\n",
    "\n",
    "'member' is an xml element under the osm element 'relation' (namely the 'multiplygon' relation) that is used to describe how thw 'way's in the 'relation' are related.  \n",
    "\n",
    "'tag's exist as children of the element trees, fleshing out the details of the element.  \n",
    "\n",
    "'nd's are tags under 'way's that reference the 'nodes' that make up the 'way's.  "
   ]
  },
  {
   "cell_type": "markdown",
   "metadata": {},
   "source": [
    "### Data Validity\n",
    "\n",
    "As shown, there are 765029 'node', 61483 'way', 982 'relation' element instances in the dataset.    There are no extraneous elements in the dataset that are unaccounted for.  \n",
    "\n",
    "A validator will be used in the subequent sql database intake. \n",
    "\n",
    "#### Verification / validation scheme of the tags in the osm dataset\n",
    "The following aspects of the elements were interrogated: \n",
    "\n",
    "* osm: verify that there is only one.  \n",
    "* bounds: verify coordinates of bounds.  \n",
    "* member: are all 'members' 'ways'?  \n",
    "* nds: all all 'nd's 'nodes' in dataset?  \n",
    "* tags: what features are represented?  "
   ]
  },
  {
   "cell_type": "markdown",
   "metadata": {},
   "source": [
    "**Bounds:** As seen already above, there is only one instance of 'osm' and 'bounds'.  The coordinates in 'bounds' is the following: "
   ]
  },
  {
   "cell_type": "code",
   "execution_count": 82,
   "metadata": {
    "collapsed": false
   },
   "outputs": [
    {
     "name": "stdout",
     "output_type": "stream",
     "text": [
      "{'minlat': '18.6982854', 'maxlon': '-154.6325683', 'minlon': '-158.4338378', 'maxlat': '21.8411047'}\n"
     ]
    }
   ],
   "source": [
    "bounds = map_project.get_attrib('bounds')\n",
    "print bounds"
   ]
  },
  {
   "cell_type": "markdown",
   "metadata": {},
   "source": [
    "The coordinates can be verified using the `geolocator` module to perform a 'reverse-lookup': "
   ]
  },
  {
   "cell_type": "code",
   "execution_count": 83,
   "metadata": {
    "collapsed": false
   },
   "outputs": [
    {
     "name": "stdout",
     "output_type": "stream",
     "text": [
      "96816\n"
     ]
    }
   ],
   "source": [
    ">>> geolocator = map_project.Nominatim()\n",
    ">>> minloc = geolocator.reverse(\"{},{}\".format(bounds['minlat'], bounds['minlon']))\n",
    ">>> maxloc = geolocator.reverse(\"{},{}\".format(bounds['maxlat'], bounds['maxlon']))\n",
    ">>> print maxloc"
   ]
  },
  {
   "cell_type": "markdown",
   "metadata": {},
   "source": [
    "96816 is the zipcode for Honolulu. Coordinates are also easily verified in goole maps.  "
   ]
  },
  {
   "cell_type": "markdown",
   "metadata": {},
   "source": [
    "**Relations:** Check membership of 'relation' elements: \n",
    "Obtain all member ids in 'relation' and see if all of them match with ids in 'way'.  "
   ]
  },
  {
   "cell_type": "code",
   "execution_count": 84,
   "metadata": {
    "collapsed": false
   },
   "outputs": [
    {
     "name": "stdout",
     "output_type": "stream",
     "text": [
      "not_in: 317, is_in: 3108\n"
     ]
    }
   ],
   "source": [
    ">>> relation_member_refs = map_project.get_allof_childattrib('relation', 'member', 'ref')\n",
    ">>> way_ids = map_project.get_allof_attrib('way','id')\n",
    "\n",
    ">>> map_project.a_in_b(relation_member_refs, way_ids)"
   ]
  },
  {
   "cell_type": "markdown",
   "metadata": {},
   "source": [
    "317 of member ids are not 'ways'.  'id's in 'relation' can also be nodes.  "
   ]
  },
  {
   "cell_type": "code",
   "execution_count": 85,
   "metadata": {
    "collapsed": false
   },
   "outputs": [
    {
     "name": "stdout",
     "output_type": "stream",
     "text": [
      "not_in: 11, is_in: 3414\n"
     ]
    }
   ],
   "source": [
    ">>> node_ids = map_project.get_allof_attrib('node', 'id')\n",
    "\n",
    ">>> map_project.a_in_b(relation_member_refs, way_ids.union(node_ids))"
   ]
  },
  {
   "cell_type": "markdown",
   "metadata": {},
   "source": [
    "All but 11 elements of 'relation' is in the union of 'node' and 'way'.  What else can it be?  "
   ]
  },
  {
   "cell_type": "code",
   "execution_count": 86,
   "metadata": {
    "collapsed": false,
    "scrolled": true
   },
   "outputs": [
    {
     "name": "stdout",
     "output_type": "stream",
     "text": [
      "not_in: 0, is_in: 3425\n"
     ]
    }
   ],
   "source": [
    ">>> relation_ids = map_project.get_allof_attrib('relation', 'id')\n",
    "map_project.a_in_b(relation_member_refs, way_ids.union(node_ids).union(relation_ids))"
   ]
  },
  {
   "cell_type": "markdown",
   "metadata": {},
   "source": [
    "Apparently, 11 of the members of 'relation' are themselves are 'relation's.  \n",
    "\n",
    "**'nd's:**  Verifying that all 'nd' ids in the 'way' elements are also instances of 'node's: "
   ]
  },
  {
   "cell_type": "code",
   "execution_count": 87,
   "metadata": {
    "collapsed": false
   },
   "outputs": [
    {
     "name": "stdout",
     "output_type": "stream",
     "text": [
      "not_in: 0, is_in: 759598\n"
     ]
    }
   ],
   "source": [
    ">>> way_nd_refs = map_project.get_allof_childattrib('way', 'nd', 'ref')\n",
    ">>> map_project.a_in_b(way_nd_refs, node_ids) "
   ]
  },
  {
   "cell_type": "markdown",
   "metadata": {},
   "source": [
    "#### Map features \n",
    "\n",
    "The tags on an .osm file is not easily translated into a human-readable entitiy.  OSM being a community project, there are no strict rules on how the physical features are tagged.  However, the tables in the wiki provide conventions: \n",
    "http://wiki.openstreetmap.org/wiki/Map_Features\n",
    "\n",
    "The tables were scraped to obtain a list of valid map features.  This can be used to make sense of what is on this map.  "
   ]
  },
  {
   "cell_type": "code",
   "execution_count": 88,
   "metadata": {
    "collapsed": false
   },
   "outputs": [],
   "source": [
    "import map_features"
   ]
  },
  {
   "cell_type": "code",
   "execution_count": 89,
   "metadata": {
    "collapsed": false,
    "scrolled": true
   },
   "outputs": [
    {
     "name": "stdout",
     "output_type": "stream",
     "text": [
      "number of tables: 32\n"
     ]
    }
   ],
   "source": [
    "mfeatures = map_features.scrape_wiki(\n",
    "    'http://wiki.openstreetmap.org/wiki/Map_Features')"
   ]
  },
  {
   "cell_type": "code",
   "execution_count": 90,
   "metadata": {
    "collapsed": false
   },
   "outputs": [],
   "source": [
    "featuresinHawaii = map_features.get_tally(OSMFILE, mfeatures,'v')"
   ]
  },
  {
   "cell_type": "markdown",
   "metadata": {},
   "source": [
    "The above dictionary (featuresinHawaii) provides a tally of all the features on this map.  There are 225 distinct features represented in the main dataset.  "
   ]
  },
  {
   "cell_type": "code",
   "execution_count": 91,
   "metadata": {
    "collapsed": false
   },
   "outputs": [
    {
     "data": {
      "text/plain": [
       "250"
      ]
     },
     "execution_count": 91,
     "metadata": {},
     "output_type": "execute_result"
    }
   ],
   "source": [
    "len(featuresinHawaii.items())"
   ]
  },
  {
   "cell_type": "markdown",
   "metadata": {},
   "source": [
    "### Data accuracy and uniformity \n",
    "\n",
    "Besides the issue of accuracy of the features described in the OSM elements, proper nomenclature of map objects (streets, buildings, etc.) in the Hawaiian language is another dimension to consider.  The Hawaiian language did not exist in written form (except in petroglyph symbols) until the 1820s; in its current use, the Hawaiian written language uses 12 letters of the english alphabet, plus a glottal stop (the 'okina).  The vowels can also have macrons (looks like a hypen on top) that affect its pronunciation.  In practice, many pidgin/creole and colloquial terms exist as it has fluidly absorbed  foreign words.  For these reasons, the Hawaiian language is difficult to formalize.  Nevertheless, the landmarks presumably follow formal nomenclature that gives proper respect to the culture of Hawai'i.  The text data can be assessed for accuracy by comparing with an outside source (an official lexicon), while 'allophones' can be consolidated to allow uniformity in names.  \n",
    "\n",
    "Textual input of street names can give rise to many variants.  The '`addr`' category in map features has specific sub-fields for respective components of a postal address (street name, number, postal code, etc.).  User omission, typos, miscategorization, abbreviations, etc. are common sources of variability.  \n",
    "\n",
    "The end word of street names was audited to account for variations.  A typical ending is expected ('street', 'avenue', etc.) for street names.  In Hawai'i, Hawaiian street names typically include the expected ending, but exceptions may exist.  "
   ]
  },
  {
   "cell_type": "markdown",
   "metadata": {},
   "source": [
    "### Data consistency \n",
    "\n",
    "The ending word (street, lane, blvd, etc.) has many permutations that need to be unified. A script was created to audit the streetnames and create uniform nomenclature, by which permutations can be corrected by mapping to  a standard list. "
   ]
  },
  {
   "cell_type": "code",
   "execution_count": 92,
   "metadata": {
    "collapsed": false,
    "scrolled": true
   },
   "outputs": [],
   "source": [
    "import audit_streetnames"
   ]
  },
  {
   "cell_type": "code",
   "execution_count": 106,
   "metadata": {
    "collapsed": false
   },
   "outputs": [
    {
     "name": "stdout",
     "output_type": "stream",
     "text": [
      "street count is: 192\n",
      "HINA AVE => HINA Avenue\n",
      "Paradise Ala Kai => Paradise Ala Kai\n",
      "Kamehameha Hwy => Kamehameha Highway\n",
      "Wainee St => Wainee Street\n",
      "Lusitania St => Lusitania Street\n",
      "corrected name count is: 4\n"
     ]
    }
   ],
   "source": [
    "execfile(\"audit_streetnames.py\")"
   ]
  },
  {
   "cell_type": "markdown",
   "metadata": {},
   "source": [
    "### Data completeness \n",
    "\n",
    "Data completeness for this dataset (but not impossible) is difficult to assess.  It can be assumed that the project is never complete.  Map features can be compared to other maps or statistics that are publically available.  "
   ]
  },
  {
   "cell_type": "markdown",
   "metadata": {},
   "source": [
    "## Data handling: .osm to .csv to sql\n",
    "\n",
    "As an intermediate step to the creation of an sql database, 'node' and 'ways' element data were extracted from the .osm file and organized into .csv datasets.  A validation process was included to ensure that the data fit the schema. The schema shapes the osm data structure into a normalized table template.  "
   ]
  },
  {
   "cell_type": "code",
   "execution_count": 94,
   "metadata": {
    "collapsed": false
   },
   "outputs": [],
   "source": [
    "import osmfile_to_csvfiles"
   ]
  },
  {
   "cell_type": "code",
   "execution_count": 95,
   "metadata": {
    "collapsed": false
   },
   "outputs": [],
   "source": [
    "# Process .osm file into .csvs\n",
    "osmfile_to_csvfiles.process_map(OSMFILE, 'True')"
   ]
  },
  {
   "cell_type": "markdown",
   "metadata": {},
   "source": [
    "#### Problems encountered \n",
    "The csv library cannot handle unicode input.  Some user-entered text entries (e.g. '`utf8-xe3x83x92xe3x83xad`') were in unicode which raised errors when passed into `csvreader`.  A wrapper for the reader module was available to convert unicode to UTF-8.   \n"
   ]
  },
  {
   "cell_type": "markdown",
   "metadata": {},
   "source": [
    "### Database creation and table insertion\n",
    "\n",
    "The data in .csv files are now inserted into an sql database.  Appropriate tables (one per osm element and respective tags) are created.  "
   ]
  },
  {
   "cell_type": "code",
   "execution_count": 96,
   "metadata": {
    "collapsed": false
   },
   "outputs": [],
   "source": [
    "import csvfiles_to_sql"
   ]
  },
  {
   "cell_type": "markdown",
   "metadata": {},
   "source": [
    "## Basic EDA \n",
    "Study the top 'node' contributors to the dataset. "
   ]
  },
  {
   "cell_type": "code",
   "execution_count": 97,
   "metadata": {
    "collapsed": true
   },
   "outputs": [],
   "source": [
    "import sql_eda"
   ]
  },
  {
   "cell_type": "markdown",
   "metadata": {},
   "source": [
    "These are the top contributors of the map: "
   ]
  },
  {
   "cell_type": "code",
   "execution_count": 98,
   "metadata": {
    "collapsed": false
   },
   "outputs": [],
   "source": [
    "query = '''\n",
    "SELECT user, count(*) as num\n",
    "FROM nodes \n",
    "GROUP BY user\n",
    "ORDER BY num DESC\n",
    "limit 5;\n",
    "'''\n",
    "output1 = sql_eda.do_sql(DBFILE, query)"
   ]
  },
  {
   "cell_type": "code",
   "execution_count": 99,
   "metadata": {
    "collapsed": false
   },
   "outputs": [],
   "source": [
    "# Find the top 20 osm element tags for user\n",
    "query = ''' \n",
    "SELECT nodes_tags.key, nodes_tags.value, nodes_tags.type, nodes.id, COUNT(*) AS num\n",
    "FROM nodes_tags, nodes\n",
    "WHERE nodes.id = nodes_tags.id\n",
    "AND user = 'Tom_Holland'\n",
    "GROUP BY nodes_tags.key\n",
    "ORDER BY num DESC \n",
    "LIMIT 20;\n",
    "'''\n",
    "output2 = sql_eda.do_sql(DBFILE, query)"
   ]
  },
  {
   "cell_type": "code",
   "execution_count": 100,
   "metadata": {
    "collapsed": false,
    "scrolled": true
   },
   "outputs": [],
   "source": [
    "# Retrieve all osm element tags for user\n",
    "query = ''' \n",
    "SELECT nodes_tags.key, nodes_tags.value, nodes_tags.type, nodes.id, COUNT(*) AS num\n",
    "FROM nodes_tags, nodes\n",
    "WHERE nodes.id = nodes_tags.id\n",
    "AND user = 'Tom_Holland'\n",
    "GROUP BY nodes_tags.key\n",
    "ORDER BY num DESC \n",
    ";\n",
    "'''\n",
    "output3 = sql_eda.do_sql(DBFILE, query) "
   ]
  },
  {
   "cell_type": "code",
   "execution_count": 101,
   "metadata": {
    "collapsed": false
   },
   "outputs": [],
   "source": [
    "# Retrieve all osm element tags for user\n",
    "query = ''' \n",
    "SELECT nodes_tags.key, nodes_tags.value, nodes.lat, nodes.lon, nodes.timestamp, COUNT(*) AS num\n",
    "FROM nodes_tags, nodes\n",
    "WHERE nodes.id = nodes_tags.id\n",
    "AND user = 'Tom_Holland'\n",
    "GROUP BY nodes_tags.key\n",
    "ORDER BY num DESC \n",
    ";\n",
    "'''\n",
    "output4 = sql_eda.do_sql(DBFILE, query) "
   ]
  },
  {
   "cell_type": "code",
   "execution_count": 102,
   "metadata": {
    "collapsed": false
   },
   "outputs": [
    {
     "name": "stdout",
     "output_type": "stream",
     "text": [
      "Alulike Trail, Waikii, Kohala, Hawaii, United States of America 2016-08-21T18:17:59Z\n",
      "\n",
      "\n",
      "Lower Napo'opo'o Road, Honaunau-Napoopoo CDP, Kau, Hawaii, 96704, United States of America 2016-09-10T03:24:22Z\n",
      "\n",
      "\n",
      "Keoneele Cove, Honaunau Beach Road, Honaunau-Napoopoo CDP, Kau, Hawaii, 96704, United States of America 2016-09-09T18:12:20Z\n",
      "\n",
      "\n",
      "98, Laimana Street, Pu‘u‘eo, Hilo CDP, North Hilo, Hawaii, 96720, United States of America 2016-08-15T04:01:55Z\n",
      "\n",
      "\n",
      "College Hall, 200, West Kawili Street, Waiākea, Hilo CDP, South Hilo, Hawaii, 96720, United States of America 2016-08-16T07:30:31Z\n",
      "\n",
      "\n",
      "Keoneele Cove, Honaunau Beach Road, Honaunau-Napoopoo CDP, Kau, Hawaii, 96704, United States of America 2016-09-09T18:12:20Z\n",
      "\n",
      "\n",
      "College Hall, 200, West Kawili Street, Waiākea, Hilo CDP, South Hilo, Hawaii, 96720, United States of America 2016-08-16T07:30:31Z\n",
      "\n",
      "\n",
      "College Hall, 200, West Kawili Street, Waiākea, Hilo CDP, South Hilo, Hawaii, 96720, United States of America 2016-08-16T07:30:31Z\n",
      "\n",
      "\n",
      "College Hall, 200, West Kawili Street, Waiākea, Hilo CDP, South Hilo, Hawaii, 96720, United States of America 2016-08-16T07:30:31Z\n",
      "\n",
      "\n",
      "Liliuokalani Gardens, Lihiwai Street, Mokaoku, Hilo CDP, South Hilo, Hawaii, 96720, United States of America 2013-08-06T16:47:04Z\n",
      "\n",
      "\n",
      "Liliuokalani Gardens, Lihiwai Street, Mokaoku, Hilo CDP, South Hilo, Hawaii, 96720, United States of America 2013-08-06T16:47:04Z\n",
      "\n",
      "\n",
      "College Hall, 200, West Kawili Street, Waiākea, Hilo CDP, South Hilo, Hawaii, 96720, United States of America 2016-08-16T07:30:31Z\n",
      "\n",
      "\n",
      "Waimaka O Pele Road, Kopua Farm Lots, Fern Acres, West Puna, Hawaii, 96771, United States of America 2012-11-29T00:32:45Z\n",
      "\n",
      "\n",
      "Waimaka O Pele Road, Kopua Farm Lots, Fern Acres, West Puna, Hawaii, 96771, United States of America 2012-11-29T00:32:45Z\n",
      "\n",
      "\n",
      "Waimaka O Pele Road, Kopua Farm Lots, Fern Acres, West Puna, Hawaii, 96771, United States of America 2012-11-29T00:32:45Z\n",
      "\n",
      "\n",
      "Waimaka O Pele Road, Kopua Farm Lots, Fern Acres, West Puna, Hawaii, 96771, United States of America 2012-11-29T00:32:45Z\n",
      "\n",
      "\n",
      "Waimaka O Pele Road, Kopua Farm Lots, Fern Acres, West Puna, Hawaii, 96771, United States of America 2012-11-29T00:32:45Z\n",
      "\n",
      "\n",
      "Waimaka O Pele Road, Kopua Farm Lots, Fern Acres, West Puna, Hawaii, 96771, United States of America 2012-11-29T00:32:45Z\n",
      "\n",
      "\n",
      "Waimaka O Pele Road, Kopua Farm Lots, Fern Acres, West Puna, Hawaii, 96771, United States of America 2012-11-29T00:32:45Z\n",
      "\n",
      "\n",
      "Kane Place, Discovery Harbour, Waiohinu, Kau, Hawaii, 96704, United States of America 2016-09-13T07:04:52Z\n",
      "\n",
      "\n"
     ]
    }
   ],
   "source": [
    "for a1 in output[:20]: \n",
    "    print unicode(geolocator.reverse(\"{},{}\".format(a1[2], a1[3]))), a1[4]\n",
    "    print \"\\n\"\n",
    "    "
   ]
  },
  {
   "cell_type": "markdown",
   "metadata": {},
   "source": [
    "The following references can provide more resources to aid in Hawaiian nomenclature:  \n",
    "\n",
    "- USGS gnis search: http://geonames.usgs.gov/apex/f?p=136:1:0::NO::P1_COUNTY%2CP1_COUNTY_ALONG:n%2C (server down)\n",
    "- Hawaii State Highways: https://en.wikipedia.org/wiki/List_of_Hawaii_state_highways \n",
    "- Hawaiian landmarks http://ulukau.org/elib/cgi-bin/library?e=d-0pepn-000Sec--11haw-50-20-frameset-book--1-010escapewin&a=d&d=D0.2&toc=0\n",
    "- [S.939 - Hawaiian National Park Language Correction Act of 2000](https://www.congress.gov/106/bills/s939/BILLS-106s939es.pdf)\n",
    "- [Documentation for ISO 639 identifier: haw](http://www-01.sil.org/iso639-3/documentation.asp?id=haw)\n",
    "- [Pūnana Leo](https://en.wikipedia.org/wiki/P%C5%ABnana_Leo)\n",
    "- [Hawaiian Language wikipedia](https://en.wikipedia.org/wiki/Hawaiian_language)\n",
    "\n",
    "Hawaii OSM project wiki: \n",
    "- http://wiki.openstreetmap.org/wiki/Hawaii"
   ]
  },
  {
   "cell_type": "code",
   "execution_count": null,
   "metadata": {
    "collapsed": true
   },
   "outputs": [],
   "source": []
  }
 ],
 "metadata": {
  "anaconda-cloud": {},
  "kernelspec": {
   "display_name": "Python [conda env:python2]",
   "language": "python",
   "name": "conda-env-python2-py"
  },
  "language_info": {
   "codemirror_mode": {
    "name": "ipython",
    "version": 2
   },
   "file_extension": ".py",
   "mimetype": "text/x-python",
   "name": "python",
   "nbconvert_exporter": "python",
   "pygments_lexer": "ipython2",
   "version": "2.7.12"
  }
 },
 "nbformat": 4,
 "nbformat_minor": 1
}
